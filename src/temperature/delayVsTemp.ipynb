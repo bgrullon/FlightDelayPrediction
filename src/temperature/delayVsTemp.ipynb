{
 "cells": [
  {
   "cell_type": "markdown",
   "metadata": {},
   "source": [
    "# Airline Delays vs Temperature | Dew\n",
    "*Benny*"
   ]
  },
  {
   "cell_type": "code",
   "execution_count": 31,
   "metadata": {},
   "outputs": [],
   "source": [
    "import pandas as pd\n",
    "import matplotlib.pyplot as plt\n",
    "import numpy as np\n",
    "import scipy.stats as st\n",
    "import hvplot.pandas\n",
    "import requests\n",
    "import warnings\n",
    "from sklearn.model_selection import train_test_split, GridSearchCV\n",
    "from sklearn.linear_model import LogisticRegression\n",
    "from sklearn.metrics import accuracy_score\n",
    "from dotenv import dotenv_values\n",
    "from helpers import getWeatherData\n",
    "\n",
    "geoapify_key = dotenv_values().get('geoapify_key')\n",
    "weather_key = dotenv_values().get('weather_key')\n",
    "warnings.filterwarnings(\"ignore\")\n",
    "\n",
    "df = pd.read_csv('../../data/clean_2018_3_Days.csv')"
   ]
  },
  {
   "cell_type": "code",
   "execution_count": 3,
   "metadata": {},
   "outputs": [
    {
     "data": {
      "text/html": [
       "<div>\n",
       "<style scoped>\n",
       "    .dataframe tbody tr th:only-of-type {\n",
       "        vertical-align: middle;\n",
       "    }\n",
       "\n",
       "    .dataframe tbody tr th {\n",
       "        vertical-align: top;\n",
       "    }\n",
       "\n",
       "    .dataframe thead th {\n",
       "        text-align: right;\n",
       "    }\n",
       "</style>\n",
       "<table border=\"1\" class=\"dataframe\">\n",
       "  <thead>\n",
       "    <tr style=\"text-align: right;\">\n",
       "      <th></th>\n",
       "      <th>Flight_Date</th>\n",
       "      <th>Origin_Airport</th>\n",
       "      <th>Destination_Airport</th>\n",
       "      <th>Flight_Number</th>\n",
       "      <th>Operating_Carrier</th>\n",
       "      <th>Scheduled_Arrival_Time</th>\n",
       "      <th>Actual_Arrival_Time</th>\n",
       "      <th>Arrival_Delay</th>\n",
       "      <th>Scheduled_Departure_Time</th>\n",
       "      <th>Actual_Departure_Time</th>\n",
       "      <th>...</th>\n",
       "      <th>Destination Cloud Cover</th>\n",
       "      <th>Destination Dew</th>\n",
       "      <th>Destination Humidity</th>\n",
       "      <th>Destination Precipitation</th>\n",
       "      <th>Destination Pressure</th>\n",
       "      <th>Destination Snow</th>\n",
       "      <th>Destination Temperature</th>\n",
       "      <th>Destination Visibility</th>\n",
       "      <th>Destination Windspeed</th>\n",
       "      <th>Destination Precipitation Probability</th>\n",
       "    </tr>\n",
       "  </thead>\n",
       "  <tbody>\n",
       "    <tr>\n",
       "      <th>0</th>\n",
       "      <td>2018-07-20</td>\n",
       "      <td>ABQ</td>\n",
       "      <td>AUS</td>\n",
       "      <td>5929</td>\n",
       "      <td>WN</td>\n",
       "      <td>1900</td>\n",
       "      <td>1917.0</td>\n",
       "      <td>17.0</td>\n",
       "      <td>1625</td>\n",
       "      <td>1644.0</td>\n",
       "      <td>...</td>\n",
       "      <td>7.8</td>\n",
       "      <td>68.6</td>\n",
       "      <td>51.96</td>\n",
       "      <td>0.0</td>\n",
       "      <td>1013.0</td>\n",
       "      <td>0.0</td>\n",
       "      <td>88.5</td>\n",
       "      <td>9.9</td>\n",
       "      <td>6.7</td>\n",
       "      <td>0.0</td>\n",
       "    </tr>\n",
       "    <tr>\n",
       "      <th>1</th>\n",
       "      <td>2018-07-20</td>\n",
       "      <td>ABQ</td>\n",
       "      <td>BWI</td>\n",
       "      <td>2377</td>\n",
       "      <td>WN</td>\n",
       "      <td>2155</td>\n",
       "      <td>2222.0</td>\n",
       "      <td>27.0</td>\n",
       "      <td>1615</td>\n",
       "      <td>1624.0</td>\n",
       "      <td>...</td>\n",
       "      <td>67.1</td>\n",
       "      <td>57.3</td>\n",
       "      <td>39.19</td>\n",
       "      <td>0.0</td>\n",
       "      <td>1017.9</td>\n",
       "      <td>0.0</td>\n",
       "      <td>84.9</td>\n",
       "      <td>9.9</td>\n",
       "      <td>5.8</td>\n",
       "      <td>0.0</td>\n",
       "    </tr>\n",
       "    <tr>\n",
       "      <th>2</th>\n",
       "      <td>2018-07-20</td>\n",
       "      <td>ABQ</td>\n",
       "      <td>BWI</td>\n",
       "      <td>2504</td>\n",
       "      <td>WN</td>\n",
       "      <td>1410</td>\n",
       "      <td>1441.0</td>\n",
       "      <td>31.0</td>\n",
       "      <td>825</td>\n",
       "      <td>834.0</td>\n",
       "      <td>...</td>\n",
       "      <td>53.4</td>\n",
       "      <td>66.9</td>\n",
       "      <td>78.19</td>\n",
       "      <td>0.0</td>\n",
       "      <td>1020.0</td>\n",
       "      <td>0.0</td>\n",
       "      <td>74.1</td>\n",
       "      <td>9.9</td>\n",
       "      <td>0.7</td>\n",
       "      <td>0.0</td>\n",
       "    </tr>\n",
       "    <tr>\n",
       "      <th>3</th>\n",
       "      <td>2018-07-20</td>\n",
       "      <td>ABQ</td>\n",
       "      <td>DAL</td>\n",
       "      <td>15</td>\n",
       "      <td>WN</td>\n",
       "      <td>905</td>\n",
       "      <td>850.0</td>\n",
       "      <td>-15.0</td>\n",
       "      <td>620</td>\n",
       "      <td>618.0</td>\n",
       "      <td>...</td>\n",
       "      <td>28.8</td>\n",
       "      <td>59.6</td>\n",
       "      <td>31.21</td>\n",
       "      <td>0.0</td>\n",
       "      <td>1010.9</td>\n",
       "      <td>0.0</td>\n",
       "      <td>94.7</td>\n",
       "      <td>9.9</td>\n",
       "      <td>13.1</td>\n",
       "      <td>0.0</td>\n",
       "    </tr>\n",
       "    <tr>\n",
       "      <th>4</th>\n",
       "      <td>2018-07-20</td>\n",
       "      <td>ABQ</td>\n",
       "      <td>DAL</td>\n",
       "      <td>942</td>\n",
       "      <td>WN</td>\n",
       "      <td>1620</td>\n",
       "      <td>1622.0</td>\n",
       "      <td>2.0</td>\n",
       "      <td>1340</td>\n",
       "      <td>1339.0</td>\n",
       "      <td>...</td>\n",
       "      <td>28.8</td>\n",
       "      <td>59.6</td>\n",
       "      <td>31.21</td>\n",
       "      <td>0.0</td>\n",
       "      <td>1010.9</td>\n",
       "      <td>0.0</td>\n",
       "      <td>94.7</td>\n",
       "      <td>9.9</td>\n",
       "      <td>13.1</td>\n",
       "      <td>0.0</td>\n",
       "    </tr>\n",
       "  </tbody>\n",
       "</table>\n",
       "<p>5 rows × 33 columns</p>\n",
       "</div>"
      ],
      "text/plain": [
       "  Flight_Date Origin_Airport Destination_Airport  Flight_Number  \\\n",
       "0  2018-07-20            ABQ                 AUS           5929   \n",
       "1  2018-07-20            ABQ                 BWI           2377   \n",
       "2  2018-07-20            ABQ                 BWI           2504   \n",
       "3  2018-07-20            ABQ                 DAL             15   \n",
       "4  2018-07-20            ABQ                 DAL            942   \n",
       "\n",
       "  Operating_Carrier  Scheduled_Arrival_Time  Actual_Arrival_Time  \\\n",
       "0                WN                    1900               1917.0   \n",
       "1                WN                    2155               2222.0   \n",
       "2                WN                    1410               1441.0   \n",
       "3                WN                     905                850.0   \n",
       "4                WN                    1620               1622.0   \n",
       "\n",
       "   Arrival_Delay  Scheduled_Departure_Time  Actual_Departure_Time  ...  \\\n",
       "0           17.0                      1625                 1644.0  ...   \n",
       "1           27.0                      1615                 1624.0  ...   \n",
       "2           31.0                       825                  834.0  ...   \n",
       "3          -15.0                       620                  618.0  ...   \n",
       "4            2.0                      1340                 1339.0  ...   \n",
       "\n",
       "   Destination Cloud Cover Destination Dew Destination Humidity  \\\n",
       "0                      7.8            68.6                51.96   \n",
       "1                     67.1            57.3                39.19   \n",
       "2                     53.4            66.9                78.19   \n",
       "3                     28.8            59.6                31.21   \n",
       "4                     28.8            59.6                31.21   \n",
       "\n",
       "   Destination Precipitation  Destination Pressure  Destination Snow  \\\n",
       "0                        0.0                1013.0               0.0   \n",
       "1                        0.0                1017.9               0.0   \n",
       "2                        0.0                1020.0               0.0   \n",
       "3                        0.0                1010.9               0.0   \n",
       "4                        0.0                1010.9               0.0   \n",
       "\n",
       "   Destination Temperature  Destination Visibility  Destination Windspeed  \\\n",
       "0                     88.5                     9.9                    6.7   \n",
       "1                     84.9                     9.9                    5.8   \n",
       "2                     74.1                     9.9                    0.7   \n",
       "3                     94.7                     9.9                   13.1   \n",
       "4                     94.7                     9.9                   13.1   \n",
       "\n",
       "   Destination Precipitation Probability  \n",
       "0                                    0.0  \n",
       "1                                    0.0  \n",
       "2                                    0.0  \n",
       "3                                    0.0  \n",
       "4                                    0.0  \n",
       "\n",
       "[5 rows x 33 columns]"
      ]
     },
     "execution_count": 3,
     "metadata": {},
     "output_type": "execute_result"
    }
   ],
   "source": [
    "df.head()"
   ]
  },
  {
   "cell_type": "code",
   "execution_count": 4,
   "metadata": {},
   "outputs": [
    {
     "data": {
      "text/plain": [
       "Flight_Date\n",
       "2018-07-20    17.004003\n",
       "2018-07-23    24.376000\n",
       "2018-07-24    16.928140\n",
       "Name: Arrival_Delay, dtype: float64"
      ]
     },
     "execution_count": 4,
     "metadata": {},
     "output_type": "execute_result"
    }
   ],
   "source": [
    "delays_mean = df.groupby('Flight_Date')['Arrival_Delay'].mean()\n",
    "\n",
    "delays_mean"
   ]
  },
  {
   "cell_type": "markdown",
   "metadata": {},
   "source": [
    "### Average Delays by Flight date"
   ]
  },
  {
   "cell_type": "code",
   "execution_count": 5,
   "metadata": {},
   "outputs": [
    {
     "data": {
      "image/png": "[encoded data removed]",
      "text/plain": [
       "<Figure size 640x480 with 1 Axes>"
      ]
     },
     "metadata": {},
     "output_type": "display_data"
    }
   ],
   "source": [
    "plt.bar(delays_mean.index, delays_mean.values)\n",
    "plt.xlabel('Flight Date')\n",
    "plt.ylabel('Average Arrival Delay (minutes)')\n",
    "plt.title('Average Arrival Delays by Flight Date')\n",
    "plt.tight_layout()\n",
    "plt.show()"
   ]
  },
  {
   "cell_type": "code",
   "execution_count": 5,
   "metadata": {},
   "outputs": [],
   "source": [
    "dep_delays_df = df[df['Departure_Delay'] > 0]\n",
    "arr_delays_df = df[df['Arrival_Delay'] > 0]"
   ]
  },
  {
   "cell_type": "markdown",
   "metadata": {},
   "source": [
    "## Created a function to create a statistical summary on our data set for Arrival and Departure Delays"
   ]
  },
  {
   "cell_type": "code",
   "execution_count": 7,
   "metadata": {},
   "outputs": [],
   "source": [
    "def stats_summary(list_of_series):\n",
    "\n",
    "    mean, median, mode, norm_test, std_dev, lq, uq, inter_q, l_thres, u_thres = [[] for _ in range(10)]\n",
    "\n",
    "\n",
    "    for df in list_of_series:\n",
    "        mean.append(np.mean(df))\n",
    "        mode.append(st.mode(df, keepdims=False))\n",
    "        norm_test.append(st.normaltest(df))\n",
    "        std_dev.append(np.std(df))\n",
    "        lq_, median_, uq_ = df.quantile([.25, .5, .75])\n",
    "        lq.append(lq_)\n",
    "        uq.append(uq_)\n",
    "        median.append(median_)\n",
    "        inter_q.append(uq_ - lq_)\n",
    "        lThres_, uThres_ = st.mstats.mquantiles(df, [0.25, 0.75])\n",
    "        l_thres.append(lThres_)\n",
    "        u_thres.append(uThres_)\n",
    "\n",
    "    mode_ = []\n",
    "    for i in mode:\n",
    "        mode_.append(i[0])\n",
    "    p_val = []\n",
    "    statistics = []\n",
    "    for i in norm_test:\n",
    "        p_val.append(i[1])\n",
    "        statistics.append(i[0])\n",
    "\n",
    "    stats_df = pd.DataFrame({\n",
    "        'Mean': mean,\n",
    "        'Median': median,\n",
    "        'Mode': mode_,\n",
    "        'P Value': p_val,\n",
    "        'Statistics': statistics,\n",
    "        'Standard Deviation': std_dev,\n",
    "        'Lower Quartile': lq,\n",
    "        'Upper Quartile': uq,\n",
    "        'Interquartile Range': inter_q,\n",
    "        'Lower Threshold': l_thres,\n",
    "        'Upper Threshold': u_thres,\n",
    "    }, index=['Delay','Temperature','Windspeed', 'Precipitation', 'Dew'])\n",
    "\n",
    "    return stats_df"
   ]
  },
  {
   "cell_type": "markdown",
   "metadata": {},
   "source": [
    "# Statistical Summary for Departures"
   ]
  },
  {
   "cell_type": "code",
   "execution_count": 8,
   "metadata": {},
   "outputs": [
    {
     "data": {
      "text/html": [
       "<div>\n",
       "<style scoped>\n",
       "    .dataframe tbody tr th:only-of-type {\n",
       "        vertical-align: middle;\n",
       "    }\n",
       "\n",
       "    .dataframe tbody tr th {\n",
       "        vertical-align: top;\n",
       "    }\n",
       "\n",
       "    .dataframe thead th {\n",
       "        text-align: right;\n",
       "    }\n",
       "</style>\n",
       "<table border=\"1\" class=\"dataframe\">\n",
       "  <thead>\n",
       "    <tr style=\"text-align: right;\">\n",
       "      <th></th>\n",
       "      <th>Mean</th>\n",
       "      <th>Median</th>\n",
       "      <th>Mode</th>\n",
       "      <th>P Value</th>\n",
       "      <th>Statistics</th>\n",
       "      <th>Standard Deviation</th>\n",
       "      <th>Lower Quartile</th>\n",
       "      <th>Upper Quartile</th>\n",
       "      <th>Interquartile Range</th>\n",
       "      <th>Lower Threshold</th>\n",
       "      <th>Upper Threshold</th>\n",
       "    </tr>\n",
       "  </thead>\n",
       "  <tbody>\n",
       "    <tr>\n",
       "      <th>Delay</th>\n",
       "      <td>50.137786</td>\n",
       "      <td>26.0</td>\n",
       "      <td>1.0</td>\n",
       "      <td>0.000000e+00</td>\n",
       "      <td>35148.004900</td>\n",
       "      <td>71.630100</td>\n",
       "      <td>9.0</td>\n",
       "      <td>67.0</td>\n",
       "      <td>58.0</td>\n",
       "      <td>9.0</td>\n",
       "      <td>67.0</td>\n",
       "    </tr>\n",
       "    <tr>\n",
       "      <th>Temperature</th>\n",
       "      <td>78.726377</td>\n",
       "      <td>78.4</td>\n",
       "      <td>70.2</td>\n",
       "      <td>2.341480e-191</td>\n",
       "      <td>877.885939</td>\n",
       "      <td>8.769983</td>\n",
       "      <td>73.0</td>\n",
       "      <td>83.5</td>\n",
       "      <td>10.5</td>\n",
       "      <td>73.0</td>\n",
       "      <td>83.5</td>\n",
       "    </tr>\n",
       "    <tr>\n",
       "      <th>Windspeed</th>\n",
       "      <td>7.497486</td>\n",
       "      <td>7.0</td>\n",
       "      <td>9.9</td>\n",
       "      <td>6.268684e-209</td>\n",
       "      <td>958.809436</td>\n",
       "      <td>4.011997</td>\n",
       "      <td>4.8</td>\n",
       "      <td>10.1</td>\n",
       "      <td>5.3</td>\n",
       "      <td>4.8</td>\n",
       "      <td>10.1</td>\n",
       "    </tr>\n",
       "    <tr>\n",
       "      <th>Precipitation</th>\n",
       "      <td>0.007880</td>\n",
       "      <td>0.0</td>\n",
       "      <td>0.0</td>\n",
       "      <td>0.000000e+00</td>\n",
       "      <td>49207.441236</td>\n",
       "      <td>0.045206</td>\n",
       "      <td>0.0</td>\n",
       "      <td>0.0</td>\n",
       "      <td>0.0</td>\n",
       "      <td>0.0</td>\n",
       "      <td>0.0</td>\n",
       "    </tr>\n",
       "    <tr>\n",
       "      <th>Dew</th>\n",
       "      <td>65.096398</td>\n",
       "      <td>66.1</td>\n",
       "      <td>61.9</td>\n",
       "      <td>0.000000e+00</td>\n",
       "      <td>2113.109507</td>\n",
       "      <td>8.045275</td>\n",
       "      <td>59.9</td>\n",
       "      <td>71.7</td>\n",
       "      <td>11.8</td>\n",
       "      <td>59.9</td>\n",
       "      <td>71.7</td>\n",
       "    </tr>\n",
       "  </tbody>\n",
       "</table>\n",
       "</div>"
      ],
      "text/plain": [
       "                    Mean  Median  Mode        P Value    Statistics  \\\n",
       "Delay          50.137786    26.0   1.0   0.000000e+00  35148.004900   \n",
       "Temperature    78.726377    78.4  70.2  2.341480e-191    877.885939   \n",
       "Windspeed       7.497486     7.0   9.9  6.268684e-209    958.809436   \n",
       "Precipitation   0.007880     0.0   0.0   0.000000e+00  49207.441236   \n",
       "Dew            65.096398    66.1  61.9   0.000000e+00   2113.109507   \n",
       "\n",
       "               Standard Deviation  Lower Quartile  Upper Quartile  \\\n",
       "Delay                   71.630100             9.0            67.0   \n",
       "Temperature              8.769983            73.0            83.5   \n",
       "Windspeed                4.011997             4.8            10.1   \n",
       "Precipitation            0.045206             0.0             0.0   \n",
       "Dew                      8.045275            59.9            71.7   \n",
       "\n",
       "               Interquartile Range  Lower Threshold  Upper Threshold  \n",
       "Delay                         58.0              9.0             67.0  \n",
       "Temperature                   10.5             73.0             83.5  \n",
       "Windspeed                      5.3              4.8             10.1  \n",
       "Precipitation                  0.0              0.0              0.0  \n",
       "Dew                           11.8             59.9             71.7  "
      ]
     },
     "execution_count": 8,
     "metadata": {},
     "output_type": "execute_result"
    }
   ],
   "source": [
    "df_list_dep = [dep_delays_df['Departure_Delay'], dep_delays_df['Origin Temperature'], dep_delays_df['Origin Windspeed'], dep_delays_df['Origin Precipitation'], dep_delays_df['Origin Dew']]\n",
    "df_list_arr = [dep_delays_df['Arrival_Delay'], dep_delays_df['Destination Temperature'], dep_delays_df['Destination Windspeed'], dep_delays_df['Destination Precipitation'], dep_delays_df['Destination Dew']]\n",
    "\n",
    "stats_sum_dep = stats_summary(df_list_dep)\n",
    "stats_sum_dep"
   ]
  },
  {
   "cell_type": "markdown",
   "metadata": {},
   "source": [
    "# Statistical Summary for Arrivals"
   ]
  },
  {
   "cell_type": "code",
   "execution_count": 9,
   "metadata": {},
   "outputs": [
    {
     "data": {
      "text/html": [
       "<div>\n",
       "<style scoped>\n",
       "    .dataframe tbody tr th:only-of-type {\n",
       "        vertical-align: middle;\n",
       "    }\n",
       "\n",
       "    .dataframe tbody tr th {\n",
       "        vertical-align: top;\n",
       "    }\n",
       "\n",
       "    .dataframe thead th {\n",
       "        text-align: right;\n",
       "    }\n",
       "</style>\n",
       "<table border=\"1\" class=\"dataframe\">\n",
       "  <thead>\n",
       "    <tr style=\"text-align: right;\">\n",
       "      <th></th>\n",
       "      <th>Mean</th>\n",
       "      <th>Median</th>\n",
       "      <th>Mode</th>\n",
       "      <th>P Value</th>\n",
       "      <th>Statistics</th>\n",
       "      <th>Standard Deviation</th>\n",
       "      <th>Lower Quartile</th>\n",
       "      <th>Upper Quartile</th>\n",
       "      <th>Interquartile Range</th>\n",
       "      <th>Lower Threshold</th>\n",
       "      <th>Upper Threshold</th>\n",
       "    </tr>\n",
       "  </thead>\n",
       "  <tbody>\n",
       "    <tr>\n",
       "      <th>Delay</th>\n",
       "      <td>47.313756</td>\n",
       "      <td>25.0</td>\n",
       "      <td>2.0</td>\n",
       "      <td>0.000000e+00</td>\n",
       "      <td>33556.030626</td>\n",
       "      <td>73.442333</td>\n",
       "      <td>4.0</td>\n",
       "      <td>68.00</td>\n",
       "      <td>64.00</td>\n",
       "      <td>4.0</td>\n",
       "      <td>68.00</td>\n",
       "    </tr>\n",
       "    <tr>\n",
       "      <th>Temperature</th>\n",
       "      <td>78.602773</td>\n",
       "      <td>78.5</td>\n",
       "      <td>70.2</td>\n",
       "      <td>1.397811e-127</td>\n",
       "      <td>584.186798</td>\n",
       "      <td>8.846570</td>\n",
       "      <td>72.9</td>\n",
       "      <td>83.65</td>\n",
       "      <td>10.75</td>\n",
       "      <td>72.9</td>\n",
       "      <td>83.68</td>\n",
       "    </tr>\n",
       "    <tr>\n",
       "      <th>Windspeed</th>\n",
       "      <td>7.553613</td>\n",
       "      <td>7.1</td>\n",
       "      <td>5.8</td>\n",
       "      <td>3.838786e-181</td>\n",
       "      <td>830.845491</td>\n",
       "      <td>4.095088</td>\n",
       "      <td>4.7</td>\n",
       "      <td>10.10</td>\n",
       "      <td>5.40</td>\n",
       "      <td>4.7</td>\n",
       "      <td>10.10</td>\n",
       "    </tr>\n",
       "    <tr>\n",
       "      <th>Precipitation</th>\n",
       "      <td>0.006769</td>\n",
       "      <td>0.0</td>\n",
       "      <td>0.0</td>\n",
       "      <td>0.000000e+00</td>\n",
       "      <td>53035.083887</td>\n",
       "      <td>0.039876</td>\n",
       "      <td>0.0</td>\n",
       "      <td>0.00</td>\n",
       "      <td>0.00</td>\n",
       "      <td>0.0</td>\n",
       "      <td>0.00</td>\n",
       "    </tr>\n",
       "    <tr>\n",
       "      <th>Dew</th>\n",
       "      <td>65.054607</td>\n",
       "      <td>66.0</td>\n",
       "      <td>67.9</td>\n",
       "      <td>0.000000e+00</td>\n",
       "      <td>2297.675839</td>\n",
       "      <td>8.204313</td>\n",
       "      <td>59.9</td>\n",
       "      <td>72.00</td>\n",
       "      <td>12.10</td>\n",
       "      <td>59.9</td>\n",
       "      <td>72.00</td>\n",
       "    </tr>\n",
       "  </tbody>\n",
       "</table>\n",
       "</div>"
      ],
      "text/plain": [
       "                    Mean  Median  Mode        P Value    Statistics  \\\n",
       "Delay          47.313756    25.0   2.0   0.000000e+00  33556.030626   \n",
       "Temperature    78.602773    78.5  70.2  1.397811e-127    584.186798   \n",
       "Windspeed       7.553613     7.1   5.8  3.838786e-181    830.845491   \n",
       "Precipitation   0.006769     0.0   0.0   0.000000e+00  53035.083887   \n",
       "Dew            65.054607    66.0  67.9   0.000000e+00   2297.675839   \n",
       "\n",
       "               Standard Deviation  Lower Quartile  Upper Quartile  \\\n",
       "Delay                   73.442333             4.0           68.00   \n",
       "Temperature              8.846570            72.9           83.65   \n",
       "Windspeed                4.095088             4.7           10.10   \n",
       "Precipitation            0.039876             0.0            0.00   \n",
       "Dew                      8.204313            59.9           72.00   \n",
       "\n",
       "               Interquartile Range  Lower Threshold  Upper Threshold  \n",
       "Delay                        64.00              4.0            68.00  \n",
       "Temperature                  10.75             72.9            83.68  \n",
       "Windspeed                     5.40              4.7            10.10  \n",
       "Precipitation                 0.00              0.0             0.00  \n",
       "Dew                          12.10             59.9            72.00  "
      ]
     },
     "execution_count": 9,
     "metadata": {},
     "output_type": "execute_result"
    }
   ],
   "source": [
    "stats_sum_arr = stats_summary(df_list_arr)\n",
    "stats_sum_arr"
   ]
  },
  {
   "cell_type": "markdown",
   "metadata": {},
   "source": [
    "## Correlation results for Temperature and Dew Point Temperature"
   ]
  },
  {
   "cell_type": "code",
   "execution_count": 10,
   "metadata": {},
   "outputs": [
    {
     "name": "stdout",
     "output_type": "stream",
     "text": [
      "The correlation between Departure Delay and Temperature -0.03\n"
     ]
    }
   ],
   "source": [
    "correlation = st.pearsonr(dep_delays_df['Departure_Delay'], dep_delays_df['Origin Temperature'])\n",
    "print(f\"The correlation between Departure Delay and Temperature {round(correlation[0],2)}\")"
   ]
  },
  {
   "cell_type": "code",
   "execution_count": 11,
   "metadata": {},
   "outputs": [
    {
     "name": "stdout",
     "output_type": "stream",
     "text": [
      "The correlation between Arrival Delay and Temperature is -0.01\n"
     ]
    }
   ],
   "source": [
    "correlation = st.pearsonr(dep_delays_df['Arrival_Delay'], dep_delays_df['Destination Temperature'])\n",
    "print(f\"The correlation between Arrival Delay and Temperature is {round(correlation[0],2)}\")"
   ]
  },
  {
   "cell_type": "code",
   "execution_count": 12,
   "metadata": {},
   "outputs": [
    {
     "name": "stdout",
     "output_type": "stream",
     "text": [
      "The correlation between Departure Delay and Dew Point Temperature is 0.1\n"
     ]
    }
   ],
   "source": [
    "correlation = st.pearsonr(dep_delays_df['Departure_Delay'], dep_delays_df['Origin Dew'])\n",
    "print(f\"The correlation between Departure Delay and Dew Point Temperature is {round(correlation[0],2)}\")"
   ]
  },
  {
   "cell_type": "code",
   "execution_count": 13,
   "metadata": {},
   "outputs": [
    {
     "name": "stdout",
     "output_type": "stream",
     "text": [
      "The correlation between Arrival Delay and Dew Point Temperature is 0.1\n"
     ]
    }
   ],
   "source": [
    "correlation = st.pearsonr(arr_delays_df['Arrival_Delay'], arr_delays_df['Destination Dew'])\n",
    "print(f\"The correlation between Arrival Delay and Dew Point Temperature is {round(correlation[0],2)}\")"
   ]
  },
  {
   "cell_type": "markdown",
   "metadata": {},
   "source": [
    "# Delays vs Temperature (Linear Regression)\n",
    "\n",
    "#### The visualization represents a straight line with a negative slope (-0.01). The negative slope indicates that as the value of the independent variable increases, the value of the dependent variable decreases."
   ]
  },
  {
   "cell_type": "code",
   "execution_count": 18,
   "metadata": {},
   "outputs": [
    {
     "data": {
      "image/png": "[encoded data removed]",
      "text/plain": [
       "<Figure size 640x480 with 1 Axes>"
      ]
     },
     "metadata": {},
     "output_type": "display_data"
    }
   ],
   "source": [
    "x_values = dep_delays_df['Departure_Delay']\n",
    "y_values = dep_delays_df['Origin Temperature']\n",
    "\n",
    "(slope, intercept, rvalue, pvalue, stderr) = st.linregress(x_values, y_values)\n",
    "regress_values = x_values * slope + intercept\n",
    "line_eq = \"y = \" + str(round(slope,2)) + \"x + \" + str(round(intercept,2))\n",
    "\n",
    "plt.scatter(x_values, y_values)\n",
    "plt.xlabel('Late Time of Departure from Scheduled (minutes)')\n",
    "plt.ylabel('Temperature (F)')\n",
    "plt.title('Delay vs Temp on Departures')\n",
    "\n",
    "# Plot regression line\n",
    "plt.plot(x_values,regress_values,\"r-\")\n",
    "rSqr = f\"R squared: {round(rvalue**2, 5)}\"\n",
    "plt.annotate(line_eq, (1000, 75), xytext=(0.7, 0.7), textcoords='axes fraction', arrowprops=dict(facecolor='black', arrowstyle=\"->\"))\n",
    "plt.annotate(rSqr, (1000, 75), xytext=(0.7, 0.1), textcoords='axes fraction')\n",
    "\n",
    "plt.tight_layout()\n",
    "plt.show()"
   ]
  },
  {
   "cell_type": "markdown",
   "metadata": {},
   "source": [
    "#### Overall the results from Temperature didnt show enough evidence to counter null hypothesis."
   ]
  },
  {
   "cell_type": "code",
   "execution_count": 19,
   "metadata": {},
   "outputs": [
    {
     "data": {
      "image/png": "[encoded data removed]",
      "text/plain": [
       "<Figure size 640x480 with 1 Axes>"
      ]
     },
     "metadata": {},
     "output_type": "display_data"
    }
   ],
   "source": [
    "x_values = arr_delays_df['Arrival_Delay']\n",
    "y_values = arr_delays_df['Destination Temperature']\n",
    "\n",
    "(slope, intercept, rvalue, pvalue, stderr) = st.linregress(x_values, y_values)\n",
    "regress_values = x_values * slope + intercept\n",
    "line_eq = \"y = \" + str(round(slope,2)) + \"x + \" + str(round(intercept,2))\n",
    "\n",
    "plt.scatter(x_values, y_values)\n",
    "plt.xlabel('Late Time of Arrival from Scheduled (minutes)')\n",
    "plt.ylabel('Temperature (F)')\n",
    "plt.title('Delay vs Temp on Arrivals')\n",
    "\n",
    "# Plot regression line\n",
    "plt.plot(x_values,regress_values,\"r-\")\n",
    "rSqr = f\"R squared: {round(rvalue**2, 7)}\"\n",
    "plt.annotate(line_eq, (1000, 79), xytext=(0.7, 0.7), textcoords='axes fraction', arrowprops=dict(facecolor='black', arrowstyle=\"->\"))\n",
    "plt.annotate(rSqr, (1000, 75), xytext=(0.7, 0.1), textcoords='axes fraction')\n",
    "\n",
    "plt.tight_layout()\n",
    "plt.show()"
   ]
  },
  {
   "cell_type": "markdown",
   "metadata": {},
   "source": [
    "# Delay vs Dew Point Temperature (Linear Regression)\n",
    "### The Visualization represents a straight line with a positive slope (0.01). The positive slope indicates that as the value of x increases, the value of y also increases."
   ]
  },
  {
   "cell_type": "code",
   "execution_count": 20,
   "metadata": {},
   "outputs": [
    {
     "data": {
      "image/png": "[encoded data removed]",
      "text/plain": [
       "<Figure size 640x480 with 1 Axes>"
      ]
     },
     "metadata": {},
     "output_type": "display_data"
    }
   ],
   "source": [
    "x_values = dep_delays_df['Departure_Delay']\n",
    "y_values = dep_delays_df['Origin Dew']\n",
    "\n",
    "(slope, intercept, rvalue, pvalue, stderr) = st.linregress(x_values, y_values)\n",
    "regress_values = x_values * slope + intercept\n",
    "line_eq = \"y = \" + str(round(slope,2)) + \"x + \" + str(round(intercept,2))\n",
    "\n",
    "plt.scatter(x_values, y_values)\n",
    "plt.xlabel('Late Time of Departure from Scheduled (minutes)')\n",
    "plt.ylabel('Dew Point')\n",
    "plt.title('Delay vs Dew Point on Departures')\n",
    "\n",
    "# Plot regression line\n",
    "plt.plot(x_values,regress_values,\"r-\")\n",
    "rSqr = f\"R squared: {round(rvalue**2, 5)}\"\n",
    "plt.annotate(line_eq, (1000, 75), xytext=(0.7, 0.6), textcoords='axes fraction', arrowprops=dict(facecolor='black', arrowstyle=\"->\"))\n",
    "plt.annotate(rSqr, (1000, 75), xytext=(0.7, 0.1), textcoords='axes fraction')\n",
    "\n",
    "plt.tight_layout()\n",
    "plt.show()"
   ]
  },
  {
   "cell_type": "markdown",
   "metadata": {},
   "source": [
    "#### Overall I believe with more data, Dew Point Temperature is a great indicator to counter null hypothesis."
   ]
  },
  {
   "cell_type": "code",
   "execution_count": 21,
   "metadata": {},
   "outputs": [
    {
     "data": {
      "image/png": "[encoded data removed]",
      "text/plain": [
       "<Figure size 640x480 with 1 Axes>"
      ]
     },
     "metadata": {},
     "output_type": "display_data"
    }
   ],
   "source": [
    "x_values = dep_delays_df['Arrival_Delay']\n",
    "y_values = dep_delays_df['Destination Dew']\n",
    "\n",
    "(slope, intercept, rvalue, pvalue, stderr) = st.linregress(x_values, y_values)\n",
    "regress_values = x_values * slope + intercept\n",
    "line_eq = \"y = \" + str(round(slope,2)) + \"x + \" + str(round(intercept,2))\n",
    "\n",
    "plt.scatter(x_values, y_values)\n",
    "plt.xlabel('Late Time of Departure from Scheduled (minutes)')\n",
    "plt.ylabel('Dew Point')\n",
    "plt.title('Delay vs Dew Point on Departures')\n",
    "\n",
    "# Plot regression line\n",
    "plt.plot(x_values,regress_values,\"r-\")\n",
    "rSqr = f\"R squared: {round(rvalue**2, 5)}\"\n",
    "plt.annotate(line_eq, (1000, 77), xytext=(0.7, 0.7), textcoords='axes fraction', arrowprops=dict(facecolor='black', arrowstyle=\"->\"))\n",
    "plt.annotate(rSqr, (1000, 75), xytext=(0.7, 0.1), textcoords='axes fraction')\n",
    "\n",
    "plt.tight_layout()\n",
    "plt.show()"
   ]
  },
  {
   "cell_type": "markdown",
   "metadata": {},
   "source": [
    "# Cities organized by delay count"
   ]
  },
  {
   "cell_type": "code",
   "execution_count": 55,
   "metadata": {},
   "outputs": [
    {
     "data": {
      "text/plain": [
       "333"
      ]
     },
     "execution_count": 55,
     "metadata": {},
     "output_type": "execute_result"
    }
   ],
   "source": [
    "cities = []\n",
    "for _, row in df.iterrows():\n",
    "\n",
    "    arrival = row['Arrival City']\n",
    "    depart = row['Departure City']\n",
    "\n",
    "    if arrival  not in cities:\n",
    "        cities.append(arrival)\n",
    "    elif depart not in cities:\n",
    "        cities.append(depart)\n",
    "\n",
    "len(cities)"
   ]
  },
  {
   "cell_type": "markdown",
   "metadata": {},
   "source": [
    "### Getting Latitude and Longitude for each city to help with geoplot visualization"
   ]
  },
  {
   "cell_type": "code",
   "execution_count": 56,
   "metadata": {},
   "outputs": [
    {
     "name": "stdout",
     "output_type": "stream",
     "text": [
      "Error on this city: Christiansted, Virgin Islands\n"
     ]
    }
   ],
   "source": [
    "# Set the search parameters\n",
    "apiKey = f'&apiKey={geoapify_key}'\n",
    "url = f\"https://api.geoapify.com/v1/geocode/search?text=\"\n",
    "city_data = []\n",
    "\n",
    "for city in cities:\n",
    "    res = requests.get(f'{url}{city}{apiKey}').json()\n",
    "    try:\n",
    "        city_data.append(\n",
    "            (res['features'][0]['properties']['lon'],\n",
    "            res['features'][0]['properties']['lat'],\n",
    "            city)\n",
    "        )\n",
    "    except:\n",
    "        print(f'Error on this city: {city}')"
   ]
  },
  {
   "cell_type": "code",
   "execution_count": 69,
   "metadata": {},
   "outputs": [],
   "source": [
    "cities_dict = {}\n",
    "\n",
    "for city in city_data:\n",
    "    cities_dict[city[2]] = [city[2], city[0], city[1], 0]"
   ]
  },
  {
   "cell_type": "code",
   "execution_count": 70,
   "metadata": {},
   "outputs": [],
   "source": [
    "dep_delays_df = df[df['Departure_Delay'] > 0]\n",
    "arr_delays_df = df[df['Arrival_Delay'] > 0]"
   ]
  },
  {
   "cell_type": "markdown",
   "metadata": {},
   "source": [
    "#### Function to count how many delays each city had for plot sizing on geoplot"
   ]
  },
  {
   "cell_type": "code",
   "execution_count": 66,
   "metadata": {},
   "outputs": [],
   "source": [
    "def count_delays_per_city(df, dict):\n",
    "    for _, row in df.iterrows():\n",
    "        arrival = row['Arrival City']\n",
    "        depart = row['Departure City']\n",
    "\n",
    "        if arrival  in dict:\n",
    "            dict[arrival][3] = dict[arrival][3] + 1\n",
    "        elif depart in cities:\n",
    "            dict[depart][3] = dict[depart][3] + 1"
   ]
  },
  {
   "cell_type": "code",
   "execution_count": 72,
   "metadata": {},
   "outputs": [],
   "source": [
    "count_delays_per_city(dep_delays_df, cities_dict)\n",
    "count_delays_per_city(arr_delays_df, cities_dict)"
   ]
  },
  {
   "cell_type": "code",
   "execution_count": null,
   "metadata": {},
   "outputs": [],
   "source": [
    "cities_df = pd.DataFrame(cities_dict.values(), columns=['City, State', 'Longitude', 'Latitude',\t'Number of Delays'])\n",
    "\n",
    "cities_df.head()"
   ]
  },
  {
   "cell_type": "markdown",
   "metadata": {},
   "source": [
    "##### Geoplot was saved as delaysMap.png in the /visuals folder"
   ]
  },
  {
   "cell_type": "code",
   "execution_count": 79,
   "metadata": {},
   "outputs": [
    {
     "data": {},
     "metadata": {},
     "output_type": "display_data"
    },
    {
     "data": {
      "application/vnd.holoviews_exec.v0+json": "",
      "text/html": [
       "<div id='1659'>\n",
       "  <div class=\"bk-root\" id=\"4c1d03b2-a4cb-4a54-b0c7-1b367f15f0e6\" data-root-id=\"1659\"></div>\n",
       "</div>\n",
       "<script type=\"application/javascript\">(function(root) {\n",
       "  function embed_document(root) {\n",
       "    var docs_json = {\"d657009e-769f-48f4-896e-41613b9d90be\":{\"defs\":[{\"extends\":null,\"module\":null,\"name\":\"ReactiveHTML1\",\"overrides\":[],\"properties\":[]},{\"extends\":null,\"module\":null,\"name\":\"FlexBox1\",\"overrides\":[],\"properties\":[{\"default\":\"flex-start\",\"kind\":null,\"name\":\"align_content\"},{\"default\":\"flex-start\",\"kind\":null,\"name\":\"align_items\"},{\"default\":\"row\",\"kind\":null,\"name\":\"flex_direction\"},{\"default\":\"wrap\",\"kind\":null,\"name\":\"flex_wrap\"},{\"default\":\"flex-start\",\"kind\":null,\"name\":\"justify_content\"}]},{\"extends\":null,\"module\":null,\"name\":\"GridStack1\",\"overrides\":[],\"properties\":[{\"default\":\"warn\",\"kind\":null,\"name\":\"mode\"},{\"default\":null,\"kind\":null,\"name\":\"ncols\"},{\"default\":null,\"kind\":null,\"name\":\"nrows\"},{\"default\":true,\"kind\":null,\"name\":\"allow_resize\"},{\"default\":true,\"kind\":null,\"name\":\"allow_drag\"},{\"default\":[],\"kind\":null,\"name\":\"state\"}]},{\"extends\":null,\"module\":null,\"name\":\"click1\",\"overrides\":[],\"properties\":[{\"default\":\"\",\"kind\":null,\"name\":\"terminal_output\"},{\"default\":\"\",\"kind\":null,\"name\":\"debug_name\"},{\"default\":0,\"kind\":null,\"name\":\"clears\"}]},{\"extends\":null,\"module\":null,\"name\":\"NotificationAreaBase1\",\"overrides\":[],\"properties\":[{\"default\":\"bottom-right\",\"kind\":null,\"name\":\"position\"},{\"default\":0,\"kind\":null,\"name\":\"_clear\"}]},{\"extends\":null,\"module\":null,\"name\":\"NotificationArea1\",\"overrides\":[],\"properties\":[{\"default\":[],\"kind\":null,\"name\":\"notifications\"},{\"default\":\"bottom-right\",\"kind\":null,\"name\":\"position\"},{\"default\":0,\"kind\":null,\"name\":\"_clear\"},{\"default\":[{\"background\":\"#ffc107\",\"icon\":{\"className\":\"fas fa-exclamation-triangle\",\"color\":\"white\",\"tagName\":\"i\"},\"type\":\"warning\"},{\"background\":\"#007bff\",\"icon\":{\"className\":\"fas fa-info-circle\",\"color\":\"white\",\"tagName\":\"i\"},\"type\":\"info\"}],\"kind\":null,\"name\":\"types\"}]},{\"extends\":null,\"module\":null,\"name\":\"Notification\",\"overrides\":[],\"properties\":[{\"default\":null,\"kind\":null,\"name\":\"background\"},{\"default\":3000,\"kind\":null,\"name\":\"duration\"},{\"default\":null,\"kind\":null,\"name\":\"icon\"},{\"default\":\"\",\"kind\":null,\"name\":\"message\"},{\"default\":null,\"kind\":null,\"name\":\"notification_type\"},{\"default\":false,\"kind\":null,\"name\":\"_destroyed\"}]},{\"extends\":null,\"module\":null,\"name\":\"TemplateActions1\",\"overrides\":[],\"properties\":[{\"default\":0,\"kind\":null,\"name\":\"open_modal\"},{\"default\":0,\"kind\":null,\"name\":\"close_modal\"}]},{\"extends\":null,\"module\":null,\"name\":\"MaterialTemplateActions1\",\"overrides\":[],\"properties\":[{\"default\":0,\"kind\":null,\"name\":\"open_modal\"},{\"default\":0,\"kind\":null,\"name\":\"close_modal\"}]}],\"roots\":{\"references\":[{\"attributes\":{\"fill_color\":{\"field\":\"color\",\"transform\":{\"id\":\"1730\"}},\"hatch_color\":{\"field\":\"color\",\"transform\":{\"id\":\"1730\"}},\"line_color\":{\"field\":\"color\",\"transform\":{\"id\":\"1730\"}},\"size\":{\"field\":\"size\"},\"tags\":[\"apply_ranges\"],\"x\":{\"field\":\"Longitude\"},\"y\":{\"field\":\"Latitude\"}},\"id\":\"1734\",\"type\":\"Scatter\"},{\"attributes\":{\"axis_label\":\"x\",\"coordinates\":null,\"formatter\":{\"id\":\"1700\"},\"group\":null,\"major_label_policy\":{\"id\":\"1705\"},\"ticker\":{\"id\":\"1699\"}},\"id\":\"1678\",\"type\":\"LinearAxis\"},{\"attributes\":{\"dimension\":\"lon\"},\"id\":\"1699\",\"type\":\"MercatorTicker\"},{\"attributes\":{\"fill_alpha\":{\"value\":0.2},\"fill_color\":{\"field\":\"color\",\"transform\":{\"id\":\"1730\"}},\"hatch_alpha\":{\"value\":0.2},\"hatch_color\":{\"field\":\"color\",\"transform\":{\"id\":\"1730\"}},\"line_alpha\":{\"value\":0.2},\"line_color\":{\"field\":\"color\",\"transform\":{\"id\":\"1730\"}},\"size\":{\"field\":\"size\"},\"tags\":[\"apply_ranges\"],\"x\":{\"field\":\"Longitude\"},\"y\":{\"field\":\"Latitude\"}},\"id\":\"1738\",\"type\":\"Scatter\"},{\"attributes\":{\"axis\":{\"id\":\"1678\"},\"coordinates\":null,\"grid_line_color\":null,\"group\":null,\"ticker\":null},\"id\":\"1681\",\"type\":\"Grid\"},{\"attributes\":{\"source\":{\"id\":\"1731\"}},\"id\":\"1740\",\"type\":\"CDSView\"},{\"attributes\":{},\"id\":\"1676\",\"type\":\"LinearScale\"},{\"attributes\":{},\"id\":\"1744\",\"type\":\"UnionRenderers\"},{\"attributes\":{},\"id\":\"1687\",\"type\":\"PanTool\"},{\"attributes\":{\"dimension\":\"lat\"},\"id\":\"1701\",\"type\":\"MercatorTicker\"},{\"attributes\":{\"axis_label\":\"y\",\"coordinates\":null,\"formatter\":{\"id\":\"1702\"},\"group\":null,\"major_label_policy\":{\"id\":\"1712\"},\"ticker\":{\"id\":\"1701\"}},\"id\":\"1682\",\"type\":\"LinearAxis\"},{\"attributes\":{\"coordinates\":null,\"data_source\":{\"id\":\"1731\"},\"glyph\":{\"id\":\"1734\"},\"group\":null,\"hover_glyph\":{\"id\":\"1737\"},\"muted_glyph\":{\"id\":\"1738\"},\"nonselection_glyph\":{\"id\":\"1735\"},\"selection_glyph\":{\"id\":\"1736\"},\"view\":{\"id\":\"1740\"}},\"id\":\"1739\",\"type\":\"GlyphRenderer\"},{\"attributes\":{\"axis\":{\"id\":\"1682\"},\"coordinates\":null,\"dimension\":1,\"grid_line_color\":null,\"group\":null,\"ticker\":null},\"id\":\"1685\",\"type\":\"Grid\"},{\"attributes\":{\"code\":\"\\n        var projections = Bokeh.require(\\\"core/util/projections\\\");\\n        var x = special_vars.data_x\\n        var y = special_vars.data_y\\n        var coords = projections.wgs84_mercator.invert(x, y)\\n        return \\\"\\\" + (coords[1]).toFixed(4)\\n    \"},\"id\":\"1750\",\"type\":\"CustomJSHover\"},{\"attributes\":{\"fill_color\":{\"field\":\"color\",\"transform\":{\"id\":\"1730\"}},\"hatch_color\":{\"field\":\"color\",\"transform\":{\"id\":\"1730\"}},\"line_color\":{\"field\":\"color\",\"transform\":{\"id\":\"1730\"}},\"size\":{\"field\":\"size\"},\"tags\":[\"apply_ranges\"],\"x\":{\"field\":\"Longitude\"},\"y\":{\"field\":\"Latitude\"}},\"id\":\"1737\",\"type\":\"Scatter\"},{\"attributes\":{\"zoom_on_axis\":false},\"id\":\"1688\",\"type\":\"WheelZoomTool\"},{\"attributes\":{\"factors\":[\"Albuquerque, New Mexico\",\"Baltimore, Maryland\",\"Dallas, Texas\",\"Denver, Colorado\",\"Houston, Texas\",\"Las Vegas, Nevada\",\"Los Angeles, California\",\"Kansas City, Missouri\",\"Chicago, Illinois\",\"Oakland, California\",\"Portland, Oregon\",\"Phoenix, Arizona\",\"San Diego, California\",\"Santa Ana, California\",\"Albany, New York\",\"Fort Lauderdale, Florida\",\"Orlando, Florida\",\"Tampa, Florida\",\"Amarillo, Texas\",\"Atlanta, Georgia\",\"Austin, Texas\",\"Boston, Massachusetts\",\"Cleveland, Ohio\",\"Columbus, Ohio\",\"Washington, Dist. Of Columbia\",\"Detroit, Michigan\",\"Greer, South Carolina\",\"Indianapolis, Indiana\",\"Jacksonville, Florida\",\"New York, New York\",\"Milwaukee, Wisconsin\",\"Minneapolis, Minnesota\",\"New Orleans, Louisiana\",\"West Palm Beach, Florida\",\"Philadelphia, Pennsylvania\",\"Pittsburgh, Pennsylvania\",\"Raleigh/Durham, North Carolina\",\"Richmond, Virginia\",\"Fort Myers, Florida\",\"San Antonio, Texas\",\"St Louis, Missouri\",\"Nashville, Tennessee\",\"El Paso, Texas\",\"Newark, New Jersey\",\"Harlingen, Texas\",\"Lubbock, Texas\",\"San Francisco, California\",\"San Jose, California\",\"Sacramento, California\",\"Windsor Locks, Connecticut\",\"Birmingham, Alabama\",\"Charleston, South Carolina\",\"Charlotte, North Carolina\",\"Panama City, Florida\",\"Pensacola, Florida\",\"Seattle, Washington\",\"Boise, Idaho\",\"Spokane, Washington\",\"Buffalo, New York\",\"Burbank, California\",\"Salt Lake City, Utah\",\"Covington, Kentucky\",\"Grand Rapids, Michigan\",\"Memphis, Tennessee\",\"Manchester, New Hampshire\",\"Oklahoma City, Oklahoma\",\"Norfolk, Virginia\",\"Providence, Rhode Island\",\"Portland, Maine\",\"Rochester, New York\",\"Louisville, Kentucky\",\"San Juan, Puerto Rico\",\"Corpus Christi, Texas\",\"Little Rock, Arkansas\",\"Midland, Texas\",\"Omaha, Nebraska\",\"Ontario, California\",\"Tulsa, Oklahoma\",\"Reno, Nevada\",\"Tucson, Arizona\",\"Des Moines, Iowa\",\"Wichita, Kansas\",\"Long Beach, California\",\"Burlington, Vermont\",\"Baton Rouge, Louisiana\",\"Savannah, Georgia\",\"Dallas-Fort Worth, Texas\",\"Jackson, Mississippi\",\"Fayetteville/Springdale/Rogers, Arkansas\",\"Gunnison, Colorado\",\"Brownsville, Texas\",\"Valparaiso/Destin-Ft Walton Beach, Florida\",\"Mc Allen, Texas\",\"Colorado Springs, Colorado\",\"Mobile, Alabama\",\"Montrose, Colorado\",\"Shreveport, Louisiana\",\"Lafayette, Louisiana\",\"Dayton, Ohio\",\"Durango, Colorado\",\"Gulfport, Mississippi\",\"Columbia, Missouri\",\"San Luis Obispo, California\",\"Monterey, California\",\"Santa Barbara, California\",\"Palm Springs, California\",\"Sioux Falls, South Dakota\",\"Fort Smith, Arkansas\",\"Rapid City, South Dakota\",\"Peoria, Illinois\",\"Santa Rosa, California\",\"Fresno, California\",\"Huntsville, Alabama\",\"Bloomington/Normal, Illinois\",\"Bismarck, North Dakota\",\"Flagstaff, Arizona\",\"Moline, Illinois\",\"Miami, Florida\",\"Myrtle Beach, South Carolina\",\"Kahului, Hawaii\",\"Syracuse, New York\",\"Harrisburg, Pennsylvania\",\"Melbourne, Florida\",\"Wilmington, North Carolina\",\"Honolulu, Hawaii\",\"Columbia, South Carolina\",\"Bozeman, Montana\",\"Jackson, Wyoming\",\"Kailua/Kona, Hawaii\",\"Anchorage, Alaska\",\"Eagle, Colorado\",\"Lihue, Hawaii\",\"Charlotte Amalie, Virgin Islands\",\"Fairbanks, Alaska\",\"Kalispell, Montana\",\"Charleston, West Virginia\",\"White Plains, New York\",\"Great Falls, Montana\",\"Pasco, Washington\",\"Key West, Florida\",\"Fargo, North Dakota\",\"Augusta, Georgia\",\"Greensboro, North Carolina\",\"Gainesville, Florida\",\"Madison, Wisconsin\",\"Green Bay, Wisconsin\",\"Missoula, Montana\",\"Bristol/Johnson/Kingsport, Tennessee\",\"Bangor, Maine\",\"Chattanooga, Tennessee\",\"Allentown, Pennsylvania\",\"Appleton, Wisconsin\",\"Lexington, Kentucky\",\"Juneau, Alaska\",\"Cedar Rapids, Iowa\",\"Billings, Montana\",\"Wilkes-Barre/Scranton, Pennsylvania\",\"Flint, Michigan\",\"Tallahassee, Florida\",\"Charlottesville, Virginia\",\"Daytona Beach, Florida\",\"Knoxville, Tennessee\",\"Sarasota/Bradenton, Florida\",\"Traverse City, Michigan\",\"Akron, Ohio\",\"Roanoke, Virginia\",\"Asheville, North Carolina\",\"Fayetteville, North Carolina\",\"Evansville, Indiana\",\"Hilton Head Island, South Carolina\",\"Nantucket, Massachusetts\",\"Vineyard Haven, Massachusetts\",\"Redmond, Oregon\",\"Kodiak, Alaska\",\"Bethel, Alaska\",\"Utqiagvik, Alaska\",\"Deadhorse, Alaska\",\"Sitka, Alaska\",\"Ketchikan, Alaska\",\"Cordova, Alaska\",\"Yakutat, Alaska\",\"Petersburg, Alaska\",\"Wrangell, Alaska\",\"Gustavus, Alaska\",\"Nome, Alaska\",\"Kotzebue, Alaska\",\"King Salmon, Alaska\",\"Trenton, New Jersey\",\"Fort Wayne, Indiana\",\"Yuma, Arizona\",\"Bakersfield, California\",\"Grand Junction, Colorado\",\"Toledo, Ohio\",\"La Crosse, Wisconsin\",\"Eugene, Oregon\",\"Rochester, Minnesota\",\"Medford, Oregon\",\"Santa Fe, New Mexico\",\"Meridian, Mississippi\",\"Hattiesburg-Laurel, Mississippi\",\"St George, Utah\",\"Roswell, New Mexico\",\"College Station, Texas\",\"Fort Hood/Killeen, Texas\",\"Alexandria, Louisiana\",\"Lincoln, Nebraska\",\"Helena, Montana\",\"Montgomery, Alabama\",\"Kalamazoo, Michigan\",\"Monroe, Louisiana\",\"Valdosta, Georgia\",\"Lansing, Michigan\",\"Erie, Pennsylvania\",\"South Bend, Indiana\",\"Columbus, Georgia\",\"Grand Forks, North Dakota\",\"Aspen, Colorado\",\"Jacksonville, North Carolina\",\"Twin Falls, Idaho\",\"Pocatello, Idaho\",\"Iron Mountain Kingsford, Michigan\",\"West Yellowstone, Montana\",\"Casper, Wyoming\",\"State College, Pennsylvania\",\"Idaho Falls, Idaho\",\"Albany, Georgia\",\"Saginaw, Michigan\",\"Dothan, Alabama\",\"Duluth, Minnesota\",\"Minot, North Dakota\",\"New Bern, North Carolina\",\"Williston, North Dakota\",\"Hancock, Michigan\",\"Eau Claire, Wisconsin\",\"Moab, Utah\",\"Vernal, Utah\",\"Lewisburg, West Virginia\",\"Staunton/Waynesboro/Harrisonburg, Virginia\",\"North Platte, Nebraska\",\"Muskegon, Michigan\",\"Hays, Kansas\",\"Salina, Kansas\",\"Scottsbluff, Nebraska\",\"Gillette, Wyoming\",\"Rock Springs, Wyoming\",\"Clarksburg, West Virginia\",\"Pueblo, Colorado\",\"Liberal, Kansas\",\"Paducah, Kentucky\",\"Springfield, Illinois\",\"Cape Girardeau, Missouri\",\"Quincy, Illinois\",\"Devils Lake, North Dakota\",\"Jamestown, North Dakota\",\"Laramie, Wyoming\",\"Arcata/Eureka, California\",\"Redding, California\",\"Mosinee, Wisconsin\",\"Springfield, Missouri\",\"North Bend, Oregon\",\"Lewiston, Idaho\",\"Aberdeen, South Dakota\",\"Alpena, Michigan\",\"Escanaba, Michigan\",\"Pellston, Michigan\",\"Bemidji, Minnesota\",\"Brainerd, Minnesota\",\"Butte, Montana\",\"Cedar City, Utah\",\"Cody, Wyoming\",\"Sault Ste Marie, Michigan\",\"Elko, Nevada\",\"Ithaca, New York\",\"Hibbing, Minnesota\",\"Binghamton, New York\",\"Rhinelander, Wisconsin\",\"Marquette, Michigan\",\"International Falls, Minnesota\",\"Lake Charles, Louisiana\",\"Laredo, Texas\",\"Hobbs, New Mexico\",\"Newport News, Virginia\",\"Provo, Utah\",\"Belleville, Illinois\",\"Ogden, Utah\",\"Punta Gorda, Florida\",\"Concord, North Carolina\",\"St Petersburg-Clearwater, Florida\",\"Grand Island, Nebraska\",\"Stockton, California\",\"Niagara Falls, New York\",\"Huntington, West Virginia\",\"Santa Maria, California\",\"Bellingham, Washington\",\"Owensboro, Kentucky\",\"Hagerstown, Maryland\",\"Elmira/Corning, New York\",\"Plattsburgh, New York\",\"Waco, Texas\",\"Abilene, Texas\",\"Beaumont/Port Arthur, Texas\",\"Longview, Texas\",\"Waterloo, Iowa\",\"Sioux City, Iowa\",\"Tyler, Texas\",\"Champaign/Urbana, Illinois\",\"Manhattan, Kansas\",\"Garden City, Kansas\",\"Texarkana, Arkansas\",\"San Angelo, Texas\",\"Dubuque, Iowa\",\"Wichita Falls, Texas\",\"Stillwater, Oklahoma\",\"Lawton, Oklahoma\",\"Hilo, Hawaii\",\"Aguadilla, Puerto Rico\",\"Latrobe, Pennsylvania\",\"Atlantic City, New Jersey\",\"Greenville, North Carolina\",\"New Haven, Connecticut\",\"Lynchburg, Virginia\",\"Guam, \",\"Saipan Island, \",\"Columbus/W Point/Starkville, Mississippi\",\"Brunswick, Georgia\",\"Worcester, Massachusetts\",\"Ponce, Puerto Rico\",\"Hyannis, Massachusetts\",\"Joplin, Missouri\",\"Hayden, Colorado\",\"Chicago/Rockford, Illinois\",\"Pago Pago, \"],\"palette\":[\"#1f77b3\",\"#ff7e0e\",\"#2ba02b\",\"#d62628\",\"#9367bc\",\"#8c564b\",\"#e277c1\",\"#7e7e7e\",\"#bcbc21\",\"#16bdcf\",\"#3a0182\",\"#004201\",\"#0fffa8\",\"#5d003f\",\"#bcbcff\",\"#d8afa1\",\"#b80080\",\"#004d52\",\"#6b6400\",\"#7c0100\",\"#6026ff\",\"#ffff9a\",\"#564964\",\"#8cb893\",\"#93fbff\",\"#018267\",\"#90ff00\",\"#8200a0\",\"#ac8944\",\"#5b3400\",\"#ffbff2\",\"#ff6e75\",\"#798cff\",\"#dd00ff\",\"#505646\",\"#004489\",\"#ffbf60\",\"#ff018c\",\"#bdc8cf\",\"#af97b5\",\"#b65600\",\"#017000\",\"#cd87ff\",\"#1cd646\",\"#bfebc3\",\"#7997b5\",\"#a56089\",\"#6e8956\",\"#bc7c75\",\"#8a2844\",\"#00acff\",\"#8ed4ff\",\"#4b6d77\",\"#00d4b1\",\"#9300f2\",\"#8a9500\",\"#5d5b9e\",\"#fddfba\",\"#00939e\",\"#ffdb00\",\"#00aa79\",\"#520067\",\"#000091\",\"#0a5d3d\",\"#a5e275\",\"#623b41\",\"#c6c689\",\"#ff9eb5\",\"#cd4f6b\",\"#ff07d6\",\"#8a3a05\",\"#7e3d70\",\"#ff4901\",\"#602ba5\",\"#1c00ff\",\"#e6dfff\",\"#aa3baf\",\"#d89c00\",\"#a3a39e\",\"#3f69ff\",\"#46490c\",\"#7b6985\",\"#6b978c\",\"#ff9a75\",\"#835bff\",\"#7c6b46\",\"#80b654\",\"#bc0049\",\"#fd93ff\",\"#5d0018\",\"#89d1d1\",\"#9c8cd3\",\"#da6d42\",\"#8a5700\",\"#3b5069\",\"#4b6b3b\",\"#edcfd8\",\"#cfedff\",\"#aa1500\",\"#dfff4f\",\"#ff2a56\",\"#d1499e\",\"#707cb8\",\"#598000\",\"#00e4fd\",\"#774b95\",\"#67d48c\",\"#3d3a72\",\"#ac413f\",\"#d6a166\",\"#c169cd\",\"#69595d\",\"#87aced\",\"#a0a569\",\"#d1aae6\",\"#870062\",\"#00fddb\",\"#672818\",\"#b342ff\",\"#0e59c4\",\"#168742\",\"#90d300\",\"#cd7900\",\"#f959ff\",\"#5b7466\",\"#8eaeb3\",\"#9c7c8c\",\"#4600c6\",\"#6b4d2d\",\"#a56d46\",\"#9e8972\",\"#a8afca\",\"#cd8ca7\",\"#00fd64\",\"#917900\",\"#ff62a1\",\"#f4ffd8\",\"#018cf0\",\"#13aca0\",\"#5b2d59\",\"#89859e\",\"#cfccba\",\"#d4afc4\",\"#dbdd6d\",\"#cffff4\",\"#006485\",\"#006962\",\"#a84167\",\"#2d97c4\",\"#a874ff\",\"#26ba5d\",\"#57b600\",\"#caffa7\",\"#a379aa\",\"#ffbc93\",\"#89e2c1\",\"#0fc8ff\",\"#d400c4\",\"#626d89\",\"#69858e\",\"#4b4d52\",\"#aa6067\",\"#79b5d4\",\"#2b5916\",\"#9a0024\",\"#bdd1f2\",\"#896e67\",\"#69a56b\",\"#855467\",\"#aecdba\",\"#87997e\",\"#cadb00\",\"#9a0390\",\"#ebbc1a\",\"#eb9cd1\",\"#70006e\",\"#b1a131\",\"#ca6b93\",\"#4146a3\",\"#e48c89\",\"#d44400\",\"#c68aca\",\"#b69597\",\"#d41f75\",\"#724bcc\",\"#674d00\",\"#672138\",\"#38564f\",\"#6ebaaa\",\"#853a31\",\"#a5d397\",\"#b8af8e\",\"#d8e4df\",\"#aa00df\",\"#cac1db\",\"#ffdf8c\",\"#e2524d\",\"#66696e\",\"#ff001c\",\"#522d72\",\"#4d906b\",\"#a86d11\",\"#ff9e26\",\"#5ea3af\",\"#c88556\",\"#915997\",\"#a3a1ff\",\"#fdbaba\",\"#242a87\",\"#dbe6a8\",\"#97f2a7\",\"#6793d6\",\"#ba5b3f\",\"#3a5d91\",\"#364f2f\",\"#267c95\",\"#89959a\",\"#cfb356\",\"#004664\",\"#5e5d2f\",\"#8e8e41\",\"#ac3f13\",\"#69953b\",\"#a13d85\",\"#bfb6ba\",\"#acc667\",\"#6469cf\",\"#91af00\",\"#2be2da\",\"#016e36\",\"#ff7952\",\"#42807e\",\"#4fe800\",\"#995428\",\"#5d0a00\",\"#a30057\",\"#0c8700\",\"#5982a7\",\"#ffebfb\",\"#4b6901\",\"#8775d4\",\"#e6c6ff\",\"#a5ffda\",\"#d86e77\",\"#df014b\",\"#69675b\",\"#776ba1\",\"#7e8067\",\"#594685\",\"#0000ca\",\"#7c002a\",\"#97ff72\",\"#b5e2e1\",\"#db52c8\",\"#777734\",\"#57bd8e\",\"#1f77b3\",\"#ff7e0e\",\"#2ba02b\",\"#d62628\",\"#9367bc\",\"#8c564b\",\"#e277c1\",\"#7e7e7e\",\"#bcbc21\",\"#16bdcf\",\"#3a0182\",\"#004201\",\"#0fffa8\",\"#5d003f\",\"#bcbcff\",\"#d8afa1\",\"#b80080\",\"#004d52\",\"#6b6400\",\"#7c0100\",\"#6026ff\",\"#ffff9a\",\"#564964\",\"#8cb893\",\"#93fbff\",\"#018267\",\"#90ff00\",\"#8200a0\",\"#ac8944\",\"#5b3400\",\"#ffbff2\",\"#ff6e75\",\"#798cff\",\"#dd00ff\",\"#505646\",\"#004489\",\"#ffbf60\",\"#ff018c\",\"#bdc8cf\",\"#af97b5\",\"#b65600\",\"#017000\",\"#cd87ff\",\"#1cd646\",\"#bfebc3\",\"#7997b5\",\"#a56089\",\"#6e8956\",\"#bc7c75\",\"#8a2844\",\"#00acff\",\"#8ed4ff\",\"#4b6d77\",\"#00d4b1\",\"#9300f2\",\"#8a9500\",\"#5d5b9e\",\"#fddfba\",\"#00939e\",\"#ffdb00\",\"#00aa79\",\"#520067\",\"#000091\",\"#0a5d3d\",\"#a5e275\",\"#623b41\",\"#c6c689\",\"#ff9eb5\",\"#cd4f6b\",\"#ff07d6\",\"#8a3a05\",\"#7e3d70\",\"#ff4901\",\"#602ba5\",\"#1c00ff\",\"#e6dfff\"]},\"id\":\"1730\",\"type\":\"CategoricalColorMapper\"},{\"attributes\":{\"label\":{\"field\":\"color\"},\"renderers\":[{\"id\":\"1739\"}]},\"id\":\"1748\",\"type\":\"LegendItem\"},{\"attributes\":{\"fill_color\":{\"field\":\"color\",\"transform\":{\"id\":\"1730\"}},\"hatch_color\":{\"field\":\"color\",\"transform\":{\"id\":\"1730\"}},\"line_color\":{\"field\":\"color\",\"transform\":{\"id\":\"1730\"}},\"size\":{\"field\":\"size\"},\"tags\":[\"apply_ranges\"],\"x\":{\"field\":\"Longitude\"},\"y\":{\"field\":\"Latitude\"}},\"id\":\"1736\",\"type\":\"Scatter\"},{\"attributes\":{},\"id\":\"1686\",\"type\":\"SaveTool\"},{\"attributes\":{\"match_aspect\":true,\"overlay\":{\"id\":\"1691\"}},\"id\":\"1689\",\"type\":\"BoxZoomTool\"},{\"attributes\":{},\"id\":\"1690\",\"type\":\"ResetTool\"},{\"attributes\":{\"data\":{\"City_comma_State\":[\"Albuquerque, New Mexico\",\"Baltimore, Maryland\",\"Dallas, Texas\",\"Denver, Colorado\",\"Houston, Texas\",\"Las Vegas, Nevada\",\"Los Angeles, California\",\"Kansas City, Missouri\",\"Chicago, Illinois\",\"Oakland, California\",\"Portland, Oregon\",\"Phoenix, Arizona\",\"San Diego, California\",\"Santa Ana, California\",\"Albany, New York\",\"Fort Lauderdale, Florida\",\"Orlando, Florida\",\"Tampa, Florida\",\"Amarillo, Texas\",\"Atlanta, Georgia\",\"Austin, Texas\",\"Boston, Massachusetts\",\"Cleveland, Ohio\",\"Columbus, Ohio\",\"Washington, Dist. Of Columbia\",\"Detroit, Michigan\",\"Greer, South Carolina\",\"Indianapolis, Indiana\",\"Jacksonville, Florida\",\"New York, New York\",\"Milwaukee, Wisconsin\",\"Minneapolis, Minnesota\",\"New Orleans, Louisiana\",\"West Palm Beach, Florida\",\"Philadelphia, Pennsylvania\",\"Pittsburgh, Pennsylvania\",\"Raleigh/Durham, North Carolina\",\"Richmond, Virginia\",\"Fort Myers, Florida\",\"San Antonio, Texas\",\"St Louis, Missouri\",\"Nashville, Tennessee\",\"El Paso, Texas\",\"Newark, New Jersey\",\"Harlingen, Texas\",\"Lubbock, Texas\",\"San Francisco, California\",\"San Jose, California\",\"Sacramento, California\",\"Windsor Locks, Connecticut\",\"Birmingham, Alabama\",\"Charleston, South Carolina\",\"Charlotte, North Carolina\",\"Panama City, Florida\",\"Pensacola, Florida\",\"Seattle, Washington\",\"Boise, Idaho\",\"Spokane, Washington\",\"Buffalo, New York\",\"Burbank, California\",\"Salt Lake City, Utah\",\"Covington, Kentucky\",\"Grand Rapids, Michigan\",\"Memphis, Tennessee\",\"Manchester, New Hampshire\",\"Oklahoma City, Oklahoma\",\"Norfolk, Virginia\",\"Providence, Rhode Island\",\"Portland, Maine\",\"Rochester, New York\",\"Louisville, Kentucky\",\"San Juan, Puerto Rico\",\"Corpus Christi, Texas\",\"Little Rock, Arkansas\",\"Midland, Texas\",\"Omaha, Nebraska\",\"Ontario, California\",\"Tulsa, Oklahoma\",\"Reno, Nevada\",\"Tucson, Arizona\",\"Des Moines, Iowa\",\"Wichita, Kansas\",\"Long Beach, California\",\"Burlington, Vermont\",\"Baton Rouge, Louisiana\",\"Savannah, Georgia\",\"Dallas-Fort Worth, Texas\",\"Jackson, Mississippi\",\"Fayetteville/Springdale/Rogers, Arkansas\",\"Gunnison, Colorado\",\"Brownsville, Texas\",\"Valparaiso/Destin-Ft Walton Beach, Florida\",\"Mc Allen, Texas\",\"Colorado Springs, Colorado\",\"Mobile, Alabama\",\"Montrose, Colorado\",\"Shreveport, Louisiana\",\"Lafayette, Louisiana\",\"Dayton, Ohio\",\"Durango, Colorado\",\"Gulfport, Mississippi\",\"Columbia, Missouri\",\"San Luis Obispo, California\",\"Monterey, California\",\"Santa Barbara, California\",\"Palm Springs, California\",\"Sioux Falls, South Dakota\",\"Fort Smith, Arkansas\",\"Rapid City, South Dakota\",\"Peoria, Illinois\",\"Santa Rosa, California\",\"Fresno, California\",\"Huntsville, Alabama\",\"Bloomington/Normal, Illinois\",\"Bismarck, North Dakota\",\"Flagstaff, Arizona\",\"Moline, Illinois\",\"Miami, Florida\",\"Myrtle Beach, South Carolina\",\"Kahului, Hawaii\",\"Syracuse, New York\",\"Harrisburg, Pennsylvania\",\"Melbourne, Florida\",\"Wilmington, North Carolina\",\"Honolulu, Hawaii\",\"Columbia, South Carolina\",\"Bozeman, Montana\",\"Jackson, Wyoming\",\"Kailua/Kona, Hawaii\",\"Anchorage, Alaska\",\"Eagle, Colorado\",\"Lihue, Hawaii\",\"Charlotte Amalie, Virgin Islands\",\"Fairbanks, Alaska\",\"Kalispell, Montana\",\"Charleston, West Virginia\",\"White Plains, New York\",\"Great Falls, Montana\",\"Pasco, Washington\",\"Key West, Florida\",\"Fargo, North Dakota\",\"Augusta, Georgia\",\"Greensboro, North Carolina\",\"Gainesville, Florida\",\"Madison, Wisconsin\",\"Green Bay, Wisconsin\",\"Missoula, Montana\",\"Bristol/Johnson/Kingsport, Tennessee\",\"Bangor, Maine\",\"Chattanooga, Tennessee\",\"Allentown, Pennsylvania\",\"Appleton, Wisconsin\",\"Lexington, Kentucky\",\"Juneau, Alaska\",\"Cedar Rapids, Iowa\",\"Billings, Montana\",\"Wilkes-Barre/Scranton, Pennsylvania\",\"Flint, Michigan\",\"Tallahassee, Florida\",\"Charlottesville, Virginia\",\"Daytona Beach, Florida\",\"Knoxville, Tennessee\",\"Sarasota/Bradenton, Florida\",\"Traverse City, Michigan\",\"Akron, Ohio\",\"Roanoke, Virginia\",\"Asheville, North Carolina\",\"Fayetteville, North Carolina\",\"Evansville, Indiana\",\"Hilton Head Island, South Carolina\",\"Nantucket, Massachusetts\",\"Vineyard Haven, Massachusetts\",\"Redmond, Oregon\",\"Kodiak, Alaska\",\"Bethel, Alaska\",\"Utqiagvik, Alaska\",\"Deadhorse, Alaska\",\"Sitka, Alaska\",\"Ketchikan, Alaska\",\"Cordova, Alaska\",\"Yakutat, Alaska\",\"Petersburg, Alaska\",\"Wrangell, Alaska\",\"Gustavus, Alaska\",\"Nome, Alaska\",\"Kotzebue, Alaska\",\"King Salmon, Alaska\",\"Trenton, New Jersey\",\"Fort Wayne, Indiana\",\"Yuma, Arizona\",\"Bakersfield, California\",\"Grand Junction, Colorado\",\"Toledo, Ohio\",\"La Crosse, Wisconsin\",\"Eugene, Oregon\",\"Rochester, Minnesota\",\"Medford, Oregon\",\"Santa Fe, New Mexico\",\"Meridian, Mississippi\",\"Hattiesburg-Laurel, Mississippi\",\"St George, Utah\",\"Roswell, New Mexico\",\"College Station, Texas\",\"Fort Hood/Killeen, Texas\",\"Alexandria, Louisiana\",\"Lincoln, Nebraska\",\"Helena, Montana\",\"Montgomery, Alabama\",\"Kalamazoo, Michigan\",\"Monroe, Louisiana\",\"Valdosta, Georgia\",\"Lansing, Michigan\",\"Erie, Pennsylvania\",\"South Bend, Indiana\",\"Columbus, Georgia\",\"Grand Forks, North Dakota\",\"Aspen, Colorado\",\"Jacksonville, North Carolina\",\"Twin Falls, Idaho\",\"Pocatello, Idaho\",\"Iron Mountain Kingsford, Michigan\",\"West Yellowstone, Montana\",\"Casper, Wyoming\",\"State College, Pennsylvania\",\"Idaho Falls, Idaho\",\"Albany, Georgia\",\"Saginaw, Michigan\",\"Dothan, Alabama\",\"Duluth, Minnesota\",\"Minot, North Dakota\",\"New Bern, North Carolina\",\"Williston, North Dakota\",\"Hancock, Michigan\",\"Eau Claire, Wisconsin\",\"Moab, Utah\",\"Vernal, Utah\",\"Lewisburg, West Virginia\",\"Staunton/Waynesboro/Harrisonburg, Virginia\",\"North Platte, Nebraska\",\"Muskegon, Michigan\",\"Hays, Kansas\",\"Salina, Kansas\",\"Scottsbluff, Nebraska\",\"Gillette, Wyoming\",\"Rock Springs, Wyoming\",\"Clarksburg, West Virginia\",\"Pueblo, Colorado\",\"Liberal, Kansas\",\"Paducah, Kentucky\",\"Springfield, Illinois\",\"Cape Girardeau, Missouri\",\"Quincy, Illinois\",\"Devils Lake, North Dakota\",\"Jamestown, North Dakota\",\"Laramie, Wyoming\",\"Arcata/Eureka, California\",\"Redding, California\",\"Mosinee, Wisconsin\",\"Springfield, Missouri\",\"North Bend, Oregon\",\"Lewiston, Idaho\",\"Aberdeen, South Dakota\",\"Alpena, Michigan\",\"Escanaba, Michigan\",\"Pellston, Michigan\",\"Bemidji, Minnesota\",\"Brainerd, Minnesota\",\"Butte, Montana\",\"Cedar City, Utah\",\"Cody, Wyoming\",\"Sault Ste Marie, Michigan\",\"Elko, Nevada\",\"Ithaca, New York\",\"Hibbing, Minnesota\",\"Binghamton, New York\",\"Rhinelander, Wisconsin\",\"Marquette, Michigan\",\"International Falls, Minnesota\",\"Lake Charles, Louisiana\",\"Laredo, Texas\",\"Hobbs, New Mexico\",\"Newport News, Virginia\",\"Provo, Utah\",\"Belleville, Illinois\",\"Ogden, Utah\",\"Punta Gorda, Florida\",\"Concord, North Carolina\",\"St Petersburg-Clearwater, Florida\",\"Grand Island, Nebraska\",\"Stockton, California\",\"Niagara Falls, New York\",\"Huntington, West Virginia\",\"Santa Maria, California\",\"Bellingham, Washington\",\"Owensboro, Kentucky\",\"Hagerstown, Maryland\",\"Elmira/Corning, New York\",\"Plattsburgh, New York\",\"Waco, Texas\",\"Abilene, Texas\",\"Beaumont/Port Arthur, Texas\",\"Longview, Texas\",\"Waterloo, Iowa\",\"Sioux City, Iowa\",\"Tyler, Texas\",\"Champaign/Urbana, Illinois\",\"Manhattan, Kansas\",\"Garden City, Kansas\",\"Texarkana, Arkansas\",\"San Angelo, Texas\",\"Dubuque, Iowa\",\"Wichita Falls, Texas\",\"Stillwater, Oklahoma\",\"Lawton, Oklahoma\",\"Hilo, Hawaii\",\"Aguadilla, Puerto Rico\",\"Latrobe, Pennsylvania\",\"Atlantic City, New Jersey\",\"Greenville, North Carolina\",\"New Haven, Connecticut\",\"Lynchburg, Virginia\",\"Guam, \",\"Saipan Island, \",\"Columbus/W Point/Starkville, Mississippi\",\"Brunswick, Georgia\",\"Worcester, Massachusetts\",\"Ponce, Puerto Rico\",\"Hyannis, Massachusetts\",\"Joplin, Missouri\",\"Hayden, Colorado\",\"Chicago/Rockford, Illinois\",\"Pago Pago, \"],\"Latitude\":{\"__ndarray__\":\"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\",\"dtype\":\"float64\",\"order\":\"little\",\"shape\":[332]},\"Longitude\":{\"__ndarray__\":\"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\",\"dtype\":\"float64\",\"order\":\"little\",\"shape\":[332]},\"Number_of_Delays\":[179,1230,703,2213,1595,1576,1722,404,4392,505,561,1409,745,235,100,972,1601,770,33,3377,507,1394,377,434,1699,1265,95,389,272,3093,267,1108,502,229,1370,392,576,229,179,290,658,671,124,1473,24,45,1302,444,297,224,158,205,2562,51,63,1104,127,73,228,203,707,544,117,180,77,146,205,171,138,108,195,39,25,82,57,146,145,101,146,85,94,61,121,72,42,154,2626,38,81,1,7,53,26,84,51,9,49,22,103,26,23,12,21,21,30,29,32,13,43,35,13,67,36,11,23,2,33,964,105,154,107,52,18,57,244,52,36,34,53,81,9,91,16,16,21,46,113,10,13,22,24,31,97,32,101,22,34,17,37,77,33,24,88,6,58,29,18,24,45,43,35,133,57,33,51,15,58,34,35,6,23,17,9,8,1,3,2,4,11,3,2,4,3,0,0,4,5,34,45,1,7,22,14,10,28,16,51,6,5,2,9,5,15,14,15,13,7,27,11,7,7,16,8,60,8,9,29,32,2,6,0,5,7,9,12,4,10,6,18,15,19,0,3,5,4,1,8,12,2,0,8,10,2,7,3,9,8,3,5,9,7,11,4,5,6,8,1,16,62,2,1,5,4,3,6,4,2,2,0,3,5,3,6,2,3,4,2,0,12,3,5,27,3,12,4,57,14,51,5,16,10,24,2,5,2,4,0,7,10,16,4,9,8,7,11,5,11,4,7,6,7,7,2,4,22,11,7,21,15,3,10,11,2,4,4,10,12,5,5,0,1,3],\"color\":[\"Albuquerque, New Mexico\",\"Baltimore, Maryland\",\"Dallas, Texas\",\"Denver, Colorado\",\"Houston, Texas\",\"Las Vegas, Nevada\",\"Los Angeles, California\",\"Kansas City, Missouri\",\"Chicago, Illinois\",\"Oakland, California\",\"Portland, Oregon\",\"Phoenix, Arizona\",\"San Diego, California\",\"Santa Ana, California\",\"Albany, New York\",\"Fort Lauderdale, Florida\",\"Orlando, Florida\",\"Tampa, Florida\",\"Amarillo, Texas\",\"Atlanta, Georgia\",\"Austin, Texas\",\"Boston, Massachusetts\",\"Cleveland, Ohio\",\"Columbus, Ohio\",\"Washington, Dist. Of Columbia\",\"Detroit, Michigan\",\"Greer, South Carolina\",\"Indianapolis, Indiana\",\"Jacksonville, Florida\",\"New York, New York\",\"Milwaukee, Wisconsin\",\"Minneapolis, Minnesota\",\"New Orleans, Louisiana\",\"West Palm Beach, Florida\",\"Philadelphia, Pennsylvania\",\"Pittsburgh, Pennsylvania\",\"Raleigh/Durham, North Carolina\",\"Richmond, Virginia\",\"Fort Myers, Florida\",\"San Antonio, Texas\",\"St Louis, Missouri\",\"Nashville, Tennessee\",\"El Paso, Texas\",\"Newark, New Jersey\",\"Harlingen, Texas\",\"Lubbock, Texas\",\"San Francisco, California\",\"San Jose, California\",\"Sacramento, California\",\"Windsor Locks, Connecticut\",\"Birmingham, Alabama\",\"Charleston, South Carolina\",\"Charlotte, North Carolina\",\"Panama City, Florida\",\"Pensacola, Florida\",\"Seattle, Washington\",\"Boise, Idaho\",\"Spokane, Washington\",\"Buffalo, New York\",\"Burbank, California\",\"Salt Lake City, Utah\",\"Covington, Kentucky\",\"Grand Rapids, Michigan\",\"Memphis, Tennessee\",\"Manchester, New Hampshire\",\"Oklahoma City, Oklahoma\",\"Norfolk, Virginia\",\"Providence, Rhode Island\",\"Portland, Maine\",\"Rochester, New York\",\"Louisville, Kentucky\",\"San Juan, Puerto Rico\",\"Corpus Christi, Texas\",\"Little Rock, Arkansas\",\"Midland, Texas\",\"Omaha, Nebraska\",\"Ontario, California\",\"Tulsa, Oklahoma\",\"Reno, Nevada\",\"Tucson, Arizona\",\"Des Moines, Iowa\",\"Wichita, Kansas\",\"Long Beach, California\",\"Burlington, Vermont\",\"Baton Rouge, Louisiana\",\"Savannah, Georgia\",\"Dallas-Fort Worth, Texas\",\"Jackson, Mississippi\",\"Fayetteville/Springdale/Rogers, Arkansas\",\"Gunnison, Colorado\",\"Brownsville, Texas\",\"Valparaiso/Destin-Ft Walton Beach, Florida\",\"Mc Allen, Texas\",\"Colorado Springs, Colorado\",\"Mobile, Alabama\",\"Montrose, Colorado\",\"Shreveport, Louisiana\",\"Lafayette, Louisiana\",\"Dayton, Ohio\",\"Durango, Colorado\",\"Gulfport, Mississippi\",\"Columbia, Missouri\",\"San Luis Obispo, California\",\"Monterey, California\",\"Santa Barbara, California\",\"Palm Springs, California\",\"Sioux Falls, South Dakota\",\"Fort Smith, Arkansas\",\"Rapid City, South Dakota\",\"Peoria, Illinois\",\"Santa Rosa, California\",\"Fresno, California\",\"Huntsville, Alabama\",\"Bloomington/Normal, Illinois\",\"Bismarck, North Dakota\",\"Flagstaff, Arizona\",\"Moline, Illinois\",\"Miami, Florida\",\"Myrtle Beach, South Carolina\",\"Kahului, Hawaii\",\"Syracuse, New York\",\"Harrisburg, Pennsylvania\",\"Melbourne, Florida\",\"Wilmington, North Carolina\",\"Honolulu, Hawaii\",\"Columbia, South Carolina\",\"Bozeman, Montana\",\"Jackson, Wyoming\",\"Kailua/Kona, Hawaii\",\"Anchorage, Alaska\",\"Eagle, Colorado\",\"Lihue, Hawaii\",\"Charlotte Amalie, Virgin Islands\",\"Fairbanks, Alaska\",\"Kalispell, Montana\",\"Charleston, West Virginia\",\"White Plains, New York\",\"Great Falls, Montana\",\"Pasco, Washington\",\"Key West, Florida\",\"Fargo, North Dakota\",\"Augusta, Georgia\",\"Greensboro, North Carolina\",\"Gainesville, Florida\",\"Madison, Wisconsin\",\"Green Bay, Wisconsin\",\"Missoula, Montana\",\"Bristol/Johnson/Kingsport, Tennessee\",\"Bangor, Maine\",\"Chattanooga, Tennessee\",\"Allentown, Pennsylvania\",\"Appleton, Wisconsin\",\"Lexington, Kentucky\",\"Juneau, Alaska\",\"Cedar Rapids, Iowa\",\"Billings, Montana\",\"Wilkes-Barre/Scranton, Pennsylvania\",\"Flint, Michigan\",\"Tallahassee, Florida\",\"Charlottesville, Virginia\",\"Daytona Beach, Florida\",\"Knoxville, Tennessee\",\"Sarasota/Bradenton, Florida\",\"Traverse City, Michigan\",\"Akron, Ohio\",\"Roanoke, Virginia\",\"Asheville, North Carolina\",\"Fayetteville, North Carolina\",\"Evansville, Indiana\",\"Hilton Head Island, South Carolina\",\"Nantucket, Massachusetts\",\"Vineyard Haven, Massachusetts\",\"Redmond, Oregon\",\"Kodiak, Alaska\",\"Bethel, Alaska\",\"Utqiagvik, Alaska\",\"Deadhorse, Alaska\",\"Sitka, Alaska\",\"Ketchikan, Alaska\",\"Cordova, Alaska\",\"Yakutat, Alaska\",\"Petersburg, Alaska\",\"Wrangell, Alaska\",\"Gustavus, Alaska\",\"Nome, Alaska\",\"Kotzebue, Alaska\",\"King Salmon, Alaska\",\"Trenton, New Jersey\",\"Fort Wayne, Indiana\",\"Yuma, Arizona\",\"Bakersfield, California\",\"Grand Junction, Colorado\",\"Toledo, Ohio\",\"La Crosse, Wisconsin\",\"Eugene, Oregon\",\"Rochester, Minnesota\",\"Medford, Oregon\",\"Santa Fe, New Mexico\",\"Meridian, Mississippi\",\"Hattiesburg-Laurel, Mississippi\",\"St George, Utah\",\"Roswell, New Mexico\",\"College Station, Texas\",\"Fort Hood/Killeen, Texas\",\"Alexandria, Louisiana\",\"Lincoln, Nebraska\",\"Helena, Montana\",\"Montgomery, Alabama\",\"Kalamazoo, Michigan\",\"Monroe, Louisiana\",\"Valdosta, Georgia\",\"Lansing, Michigan\",\"Erie, Pennsylvania\",\"South Bend, Indiana\",\"Columbus, Georgia\",\"Grand Forks, North Dakota\",\"Aspen, Colorado\",\"Jacksonville, North Carolina\",\"Twin Falls, Idaho\",\"Pocatello, Idaho\",\"Iron Mountain Kingsford, Michigan\",\"West Yellowstone, Montana\",\"Casper, Wyoming\",\"State College, Pennsylvania\",\"Idaho Falls, Idaho\",\"Albany, Georgia\",\"Saginaw, Michigan\",\"Dothan, Alabama\",\"Duluth, Minnesota\",\"Minot, North Dakota\",\"New Bern, North Carolina\",\"Williston, North Dakota\",\"Hancock, Michigan\",\"Eau Claire, Wisconsin\",\"Moab, Utah\",\"Vernal, Utah\",\"Lewisburg, West Virginia\",\"Staunton/Waynesboro/Harrisonburg, Virginia\",\"North Platte, Nebraska\",\"Muskegon, Michigan\",\"Hays, Kansas\",\"Salina, Kansas\",\"Scottsbluff, Nebraska\",\"Gillette, Wyoming\",\"Rock Springs, Wyoming\",\"Clarksburg, West Virginia\",\"Pueblo, Colorado\",\"Liberal, Kansas\",\"Paducah, Kentucky\",\"Springfield, Illinois\",\"Cape Girardeau, Missouri\",\"Quincy, Illinois\",\"Devils Lake, North Dakota\",\"Jamestown, North Dakota\",\"Laramie, Wyoming\",\"Arcata/Eureka, California\",\"Redding, California\",\"Mosinee, Wisconsin\",\"Springfield, Missouri\",\"North Bend, Oregon\",\"Lewiston, Idaho\",\"Aberdeen, South Dakota\",\"Alpena, Michigan\",\"Escanaba, Michigan\",\"Pellston, Michigan\",\"Bemidji, Minnesota\",\"Brainerd, Minnesota\",\"Butte, Montana\",\"Cedar City, Utah\",\"Cody, Wyoming\",\"Sault Ste Marie, Michigan\",\"Elko, Nevada\",\"Ithaca, New York\",\"Hibbing, Minnesota\",\"Binghamton, New York\",\"Rhinelander, Wisconsin\",\"Marquette, Michigan\",\"International Falls, Minnesota\",\"Lake Charles, Louisiana\",\"Laredo, Texas\",\"Hobbs, New Mexico\",\"Newport News, Virginia\",\"Provo, Utah\",\"Belleville, Illinois\",\"Ogden, Utah\",\"Punta Gorda, Florida\",\"Concord, North Carolina\",\"St Petersburg-Clearwater, Florida\",\"Grand Island, Nebraska\",\"Stockton, California\",\"Niagara Falls, New York\",\"Huntington, West Virginia\",\"Santa Maria, California\",\"Bellingham, Washington\",\"Owensboro, Kentucky\",\"Hagerstown, Maryland\",\"Elmira/Corning, New York\",\"Plattsburgh, New York\",\"Waco, Texas\",\"Abilene, Texas\",\"Beaumont/Port Arthur, Texas\",\"Longview, Texas\",\"Waterloo, Iowa\",\"Sioux City, Iowa\",\"Tyler, Texas\",\"Champaign/Urbana, Illinois\",\"Manhattan, Kansas\",\"Garden City, Kansas\",\"Texarkana, Arkansas\",\"San Angelo, Texas\",\"Dubuque, Iowa\",\"Wichita Falls, Texas\",\"Stillwater, Oklahoma\",\"Lawton, Oklahoma\",\"Hilo, Hawaii\",\"Aguadilla, Puerto Rico\",\"Latrobe, Pennsylvania\",\"Atlantic City, New Jersey\",\"Greenville, North Carolina\",\"New Haven, Connecticut\",\"Lynchburg, Virginia\",\"Guam, \",\"Saipan Island, \",\"Columbus/W Point/Starkville, Mississippi\",\"Brunswick, Georgia\",\"Worcester, Massachusetts\",\"Ponce, Puerto Rico\",\"Hyannis, Massachusetts\",\"Joplin, Missouri\",\"Hayden, Colorado\",\"Chicago/Rockford, Illinois\",\"Pago Pago, \"],\"size\":{\"__ndarray__\":\"11ZWTg4OEED6wVbT9QolQI/25GAl0R9A3sPps7s5LECDSRx6ZPYnQO+DwvK+0SdAH5wH9e/lKEDty8PBpB4YQA1mps2z4TNAwWHUHXb3GkBt7Z+uKmwcQJ/dehahhSZAglcGz3ZgIECaxFxtSWUSQAAAAAAAAAhAjQCiKca0IkCgIHdx6wEoQKaVNh46piBA7S0QKOuS+z8ciROk/24xQFnkIjweBRtAmiyFbNtmJkAFwYW8vkwXQJUvA5LL/xhAgozlLzq7KEA+tAv/EFclQCdNrDFuZAdAeVPeWu6qF0A76Z/heMoTQOt9Kmc2rzBAdNX0ebCbE0DeSqi00/gjQCett+7s4hpAauL6kMcoEkD3R9l5RjUmQP0xn+s/whdAzMzMzMzMHEBq4vqQxygSQNdWVk4ODhBAZB8XcG1vFEAjn2viJMgeQDKAtlGbFR9Ag+iwOau5CkCgHDaCHgcnQDeOpLHdg/c/yvU7P4UZAEAnvrydYqYlQEAo6QwbSRlAcSIMXjCuFEAsWQukv/URQCmBLGTjKg5ALhr0Q28uEUCTY+MVpl4uQBWPgZGxIwFAn3nXGKYMA0ALYKv2lu8jQGA1TbXvCwtA90s3l2+BBEA3SWdHnh4SQJRBoh/tGBFATBULIknoH0CP9z3dEv0bQMKdV4rA9QlAyvU7P4UZEEAQywGPVg8FQBteXs3S/wxALhr0Q28uEUAmWYGRUmIPQFAEd9aQMQxAZquCNwjxCEAHx8mF0MEQQAwxoIHa+f0/AAAAAAAA+D/4XNLtoLsFQDdJZ0eeHgJAG15ezdL/DEDHP8IPW+YMQO3Lw8GkHghAG15ezdL/DEAfaxP1fCAGQNSW6znURAdAcd/7DZ6+AkBmZmZmZmYKQGtPP1xbXQRA3uJgv4gb/z+bjZjkgMgNQAhH/TIovy5ABG4o+dSW/T+ZmZmZmZkFQDMzMzMzM9M/f/fJyzJm6T9Yyq1G5ngBQI05fNisefg/nyTmqhH/BUAVj4GRsSMBQMzMzMzMzOw/zczMzMzMAEBizv43lYP2P/2HRp56WwhAjTl82Kx5+D+00Y4mHgX3P5nHASWwoPA/nyTmqhH/9T+fJOaqEf/1P6vGdC9qSvo/igUxX0rZ+T+PFP96JCf7PytpOlyATvE/c44jzMd5/z8D6UrIrWX8PytpOlyATvE/c2WTqxSlA0DMzMzMzMz8P6S4yeTv1u8/tNGOJh4F9z+PFP96JCfbP+0tECjrkvs/nmSFxgahIkDXcTj/uZcIQJuNmOSAyA1ACXMuLGfTCEAraTpcgE4BQGtPP1xbXfQ/N0lnR54eAkBx3/sNnr4SQCtpOlyATgFAzMzMzMzM/D+P9z3dEv37P1jKrUbmeAFAmZmZmZmZBUDMzMzMzMzsP83+yqAA5QZAMzMzMzMz8z8zMzMzMzPzP58k5qoR//U/FbBDRBBHAECnxsldKYMJQJZtbBOdW+4/K2k6XIBO8T9izv43lYP2PzeOpLHdg/c/g+iwOau5+j9CAURjI6MHQI8U/3okJ/s/7cvDwaQeCEBizv43lYP2P4/3Pd0S/fs/O+mf4XjK8z+qbhGkfzL9PxDLAY9WDwVA7S0QKOuS+z83jqSx3YP3P2LO/jeVgwZAN46ksd2D5z+pQviIIUcCQIoFMV9K2fk/a08/XFtd9D83jqSx3YP3P8r1Oz+FGQBAc44jzMd5/z8D6UrIrWX8Pzyk10CbrQtAN0lnR54eAkDtLRAo65L7PxWPgZGxIwFAtpUvNx+X8j+pQviIIUcCQI/3Pd0S/fs/A+lKyK1l/D83jqSx3YPnP7TRjiYeBfc/O+mf4XjK8z/MzMzMzMzsP48U/3okJ+s/MzMzMzMz0z+ZxwElsKDgP48U/3okJ9s/MzMzMzMz4z+kuMnk79bvP5nHASWwoOA/jxT/eiQn2z8zMzMzMzPjP5nHASWwoOA/AAAAAAAAAAAAAAAAAAAAADMzMzMzM+M/Y/JPVFx35T+P9z3dEv37P8r1Oz+FGQBAMzMzMzMz0z9/98nLMmbpP2LO/jeVg/Y/LFkLpL/18T+WbWwTnVvuP3/3ycsyZvk/MzMzMzMz8z8Vj4GRsSMBQDeOpLHdg+c/Y/JPVFx35T+PFP96JCfbP8zMzMzMzOw/Y/JPVFx35T+2lS83H5fyPyxZC6S/9fE/tpUvNx+X8j8raTpcgE7xP3/3ycsyZuk/ZquCNwjx+D+kuMnk79bvP3/3ycsyZuk/f/fJyzJm6T8zMzMzMzPzP48U/3okJ+s/tpUvNx+XAkCPFP96JCfrP8zMzMzMzOw/igUxX0rZ+T+PFP96JCf7P48U/3okJ9s/N46ksd2D5z8AAAAAAAAAAGPyT1Rcd+U/f/fJyzJm6T/MzMzMzMzsP5nHASWwoPA/MzMzMzMz4z+WbWwTnVvuPzeOpLHdg+c/a08/XFtd9D+2lS83H5fyP8SQqws37PQ/AAAAAAAAAACZxwElsKDgP2PyT1Rcd+U/MzMzMzMz4z8zMzMzMzPTP48U/3okJ+s/mccBJbCg8D+PFP96JCfbPwAAAAAAAAAAjxT/eiQn6z+WbWwTnVvuP48U/3okJ9s/f/fJyzJm6T+ZxwElsKDgP8zMzMzMzOw/jxT/eiQn6z+ZxwElsKDgP2PyT1Rcd+U/zMzMzMzM7D9/98nLMmbpP6S4yeTv1u8/MzMzMzMz4z9j8k9UXHflPzeOpLHdg+c/jxT/eiQn6z8zMzMzMzPTPzMzMzMzM/M/15UhWsrlAkCPFP96JCfbPzMzMzMzM9M/Y/JPVFx35T8zMzMzMzPjP5nHASWwoOA/N46ksd2D5z8zMzMzMzPjP48U/3okJ9s/jxT/eiQn2z8AAAAAAAAAAJnHASWwoOA/Y/JPVFx35T+ZxwElsKDgPzeOpLHdg+c/jxT/eiQn2z+ZxwElsKDgPzMzMzMzM+M/jxT/eiQn2z8AAAAAAAAAAJnHASWwoPA/mccBJbCg4D9j8k9UXHflP2argjcI8fg/mccBJbCg4D+ZxwElsKDwPzMzMzMzM+M/N0lnR54eAkAsWQukv/XxPxWPgZGxIwFAY/JPVFx35T8zMzMzMzPzP5ZtbBOdW+4/N46ksd2D9z+PFP96JCfbP2PyT1Rcd+U/jxT/eiQn2z8zMzMzMzPjPwAAAAAAAAAAf/fJyzJm6T+WbWwTnVvuPzMzMzMzM/M/MzMzMzMz4z/MzMzMzMzsP48U/3okJ+s/f/fJyzJm6T+kuMnk79bvP2PyT1Rcd+U/pLjJ5O/W7z8zMzMzMzPjP3/3ycsyZuk/N46ksd2D5z9/98nLMmbpP3/3ycsyZuk/jxT/eiQn2z8zMzMzMzPjP2LO/jeVg/Y/pLjJ5O/W7z9/98nLMmbpP58k5qoR//U/tpUvNx+X8j+ZxwElsKDgP5ZtbBOdW+4/pLjJ5O/W7z+PFP96JCfbPzMzMzMzM+M/MzMzMzMz4z+WbWwTnVvuP5nHASWwoPA/Y/JPVFx35T9j8k9UXHflPwAAAAAAAAAAMzMzMzMz0z+ZxwElsKDgPw==\",\"dtype\":\"float64\",\"order\":\"little\",\"shape\":[332]}},\"selected\":{\"id\":\"1732\"},\"selection_policy\":{\"id\":\"1744\"}},\"id\":\"1731\",\"type\":\"ColumnDataSource\"},{\"attributes\":{\"bottom_units\":\"screen\",\"coordinates\":null,\"fill_alpha\":0.5,\"fill_color\":\"lightgrey\",\"group\":null,\"left_units\":\"screen\",\"level\":\"overlay\",\"line_alpha\":1.0,\"line_color\":\"black\",\"line_dash\":[4,4],\"line_width\":2,\"right_units\":\"screen\",\"syncable\":false,\"top_units\":\"screen\"},\"id\":\"1691\",\"type\":\"BoxAnnotation\"},{\"attributes\":{\"dimension\":\"lon\"},\"id\":\"1700\",\"type\":\"MercatorTickFormatter\"},{\"attributes\":{\"fill_alpha\":{\"value\":0.1},\"fill_color\":{\"field\":\"color\",\"transform\":{\"id\":\"1730\"}},\"hatch_alpha\":{\"value\":0.1},\"hatch_color\":{\"field\":\"color\",\"transform\":{\"id\":\"1730\"}},\"line_alpha\":{\"value\":0.1},\"line_color\":{\"field\":\"color\",\"transform\":{\"id\":\"1730\"}},\"size\":{\"field\":\"size\"},\"tags\":[\"apply_ranges\"],\"x\":{\"field\":\"Longitude\"},\"y\":{\"field\":\"Latitude\"}},\"id\":\"1735\",\"type\":\"Scatter\"},{\"attributes\":{\"below\":[{\"id\":\"1678\"}],\"center\":[{\"id\":\"1681\"},{\"id\":\"1685\"}],\"frame_height\":800,\"frame_width\":1000,\"height\":null,\"left\":[{\"id\":\"1682\"}],\"margin\":[5,5,5,5],\"match_aspect\":true,\"min_border_bottom\":10,\"min_border_left\":10,\"min_border_right\":10,\"min_border_top\":10,\"output_backend\":\"webgl\",\"renderers\":[{\"id\":\"1728\"},{\"id\":\"1739\"}],\"right\":[{\"id\":\"1747\"}],\"sizing_mode\":\"fixed\",\"title\":{\"id\":\"1670\"},\"toolbar\":{\"id\":\"1692\"},\"width\":null,\"x_range\":{\"id\":\"1664\"},\"x_scale\":{\"id\":\"1674\"},\"y_range\":{\"id\":\"1665\"},\"y_scale\":{\"id\":\"1676\"}},\"id\":\"1669\",\"subtype\":\"Figure\",\"type\":\"Plot\"},{\"attributes\":{\"active_drag\":{\"id\":\"1687\"},\"tools\":[{\"id\":\"1668\"},{\"id\":\"1686\"},{\"id\":\"1687\"},{\"id\":\"1688\"},{\"id\":\"1689\"},{\"id\":\"1690\"}]},\"id\":\"1692\",\"type\":\"Toolbar\"},{\"attributes\":{\"end\":22581991.473168783,\"min_interval\":5,\"reset_end\":22581991.473168783,\"reset_start\":-9568442.141723633,\"start\":-9568442.141723633,\"tags\":[[[\"Latitude\",\"Latitude\",null]]]},\"id\":\"1665\",\"type\":\"Range1d\"},{\"attributes\":{\"callback\":null,\"formatters\":{\"$x\":{\"id\":\"1749\"},\"$y\":{\"id\":\"1750\"}},\"renderers\":[{\"id\":\"1739\"}],\"tags\":[\"hv_created\"],\"tooltips\":[[\"Longitude\",\"$x{custom}\"],[\"Latitude\",\"$y{custom}\"],[\"City, State\",\"@{City_comma_State}\"],[\"Number of Delays\",\"@{Number_of_Delays}\"]]},\"id\":\"1668\",\"type\":\"HoverTool\"},{\"attributes\":{},\"id\":\"1674\",\"type\":\"LinearScale\"},{\"attributes\":{\"code\":\"\\n        var projections = Bokeh.require(\\\"core/util/projections\\\");\\n        var x = special_vars.data_x\\n        var y = special_vars.data_y\\n        var coords = projections.wgs84_mercator.invert(x, y)\\n        return \\\"\\\" + (coords[0]).toFixed(4)\\n    \"},\"id\":\"1749\",\"type\":\"CustomJSHover\"},{\"attributes\":{},\"id\":\"1732\",\"type\":\"Selection\"},{\"attributes\":{},\"id\":\"1705\",\"type\":\"AllLabels\"},{\"attributes\":{\"attribution\":\"&copy; <a href=\\\"https://www.openstreetmap.org/copyright\\\">OpenStreetMap</a> contributors\",\"url\":\"https://c.tile.openstreetmap.org/{Z}/{X}/{Y}.png\"},\"id\":\"1725\",\"type\":\"WMTSTileSource\"},{\"attributes\":{},\"id\":\"1712\",\"type\":\"AllLabels\"},{\"attributes\":{\"coordinates\":null,\"group\":null,\"level\":\"glyph\",\"tile_source\":{\"id\":\"1725\"}},\"id\":\"1728\",\"type\":\"TileRenderer\"},{\"attributes\":{\"click_policy\":\"mute\",\"coordinates\":null,\"group\":null,\"items\":[{\"id\":\"1748\"}],\"location\":[0,0]},\"id\":\"1747\",\"type\":\"Legend\"},{\"attributes\":{\"coordinates\":null,\"group\":null,\"text_color\":\"black\",\"text_font_size\":\"12pt\"},\"id\":\"1670\",\"type\":\"Title\"},{\"attributes\":{\"dimension\":\"lat\"},\"id\":\"1702\",\"type\":\"MercatorTickFormatter\"},{\"attributes\":{\"children\":[{\"id\":\"1669\"}],\"margin\":[0,0,0,0],\"name\":\"Row02195\",\"sizing_mode\":\"fixed\",\"tags\":[\"embedded\"]},\"id\":\"1659\",\"type\":\"Row\"},{\"attributes\":{\"end\":19003498.03890065,\"min_interval\":5,\"reset_end\":19003498.03890065,\"reset_start\":-21184543.979714867,\"start\":-21184543.979714867,\"tags\":[[[\"Longitude\",\"Longitude\",null]]]},\"id\":\"1664\",\"type\":\"Range1d\"}],\"root_ids\":[\"1659\"]},\"title\":\"Bokeh Application\",\"version\":\"2.4.3\"}};\n",
       "    var render_items = [{\"docid\":\"d657009e-769f-48f4-896e-41613b9d90be\",\"root_ids\":[\"1659\"],\"roots\":{\"1659\":\"4c1d03b2-a4cb-4a54-b0c7-1b367f15f0e6\"}}];\n",
       "    root.Bokeh.embed.embed_items_notebook(docs_json, render_items);\n",
       "    for (const render_item of render_items) {\n",
       "      for (const root_id of render_item.root_ids) {\n",
       "\tconst id_el = document.getElementById(root_id)\n",
       "\tif (id_el.children.length && (id_el.children[0].className === 'bk-root')) {\n",
       "\t  const root_el = id_el.children[0]\n",
       "\t  root_el.id = root_el.id + '-rendered'\n",
       "\t}\n",
       "      }\n",
       "    }\n",
       "  }\n",
       "  if (root.Bokeh !== undefined && root.Bokeh.Panel !== undefined) {\n",
       "    embed_document(root);\n",
       "  } else {\n",
       "    var attempts = 0;\n",
       "    var timer = setInterval(function(root) {\n",
       "      if (root.Bokeh !== undefined && root.Bokeh.Panel !== undefined) {\n",
       "        clearInterval(timer);\n",
       "        embed_document(root);\n",
       "      } else if (document.readyState == \"complete\") {\n",
       "        attempts++;\n",
       "        if (attempts > 200) {\n",
       "          clearInterval(timer);\n",
       "          console.log(\"Bokeh: ERROR: Unable to run BokehJS code because BokehJS library is missing\");\n",
       "        }\n",
       "      }\n",
       "    }, 25, root)\n",
       "  }\n",
       "})(window);</script>"
      ],
      "text/plain": [
       ":Overlay\n",
       "   .Tiles.I  :Tiles   [x,y]\n",
       "   .Points.I :Points   [Longitude,Latitude]   (City, State,Number of Delays)"
      ]
     },
     "execution_count": 79,
     "metadata": {
      "application/vnd.holoviews_exec.v0+json": {
       "id": "1659"
      }
     },
     "output_type": "execute_result"
    }
   ],
   "source": [
    "delay_per_city_map = cities_df.hvplot.points(\n",
    "    \"Longitude\",\n",
    "    \"Latitude\",\n",
    "    geo=True,\n",
    "    tiles=\"OSM\",\n",
    "    frame_width=1000,\n",
    "    frame_height=800,\n",
    "    size = \"Number of Delays\",\n",
    "    scale = .3,\n",
    "    color = \"City, State\",\n",
    "    hover_cols = [\"City, State\"]\n",
    ")\n",
    "\n",
    "delay_per_city_map"
   ]
  },
  {
   "cell_type": "markdown",
   "metadata": {},
   "source": [
    "# Logistics Regression Model\n",
    "\n",
    "##### logistic regression is a classification algorithm widely used statistical method for binary classification tasks."
   ]
  },
  {
   "cell_type": "code",
   "execution_count": 26,
   "metadata": {},
   "outputs": [
    {
     "data": {
      "text/html": [
       "<div>\n",
       "<style scoped>\n",
       "    .dataframe tbody tr th:only-of-type {\n",
       "        vertical-align: middle;\n",
       "    }\n",
       "\n",
       "    .dataframe tbody tr th {\n",
       "        vertical-align: top;\n",
       "    }\n",
       "\n",
       "    .dataframe thead th {\n",
       "        text-align: right;\n",
       "    }\n",
       "</style>\n",
       "<table border=\"1\" class=\"dataframe\">\n",
       "  <thead>\n",
       "    <tr style=\"text-align: right;\">\n",
       "      <th></th>\n",
       "      <th>Flight_Date</th>\n",
       "      <th>Origin_Airport</th>\n",
       "      <th>Destination_Airport</th>\n",
       "      <th>Flight_Number</th>\n",
       "      <th>Operating_Carrier</th>\n",
       "      <th>Scheduled_Arrival_Time</th>\n",
       "      <th>Actual_Arrival_Time</th>\n",
       "      <th>Arrival_Delay</th>\n",
       "      <th>Scheduled_Departure_Time</th>\n",
       "      <th>Actual_Departure_Time</th>\n",
       "      <th>...</th>\n",
       "      <th>Destination Dew</th>\n",
       "      <th>Destination Humidity</th>\n",
       "      <th>Destination Precipitation</th>\n",
       "      <th>Destination Pressure</th>\n",
       "      <th>Destination Snow</th>\n",
       "      <th>Destination Temperature</th>\n",
       "      <th>Destination Visibility</th>\n",
       "      <th>Destination Windspeed</th>\n",
       "      <th>Destination Precipitation Probability</th>\n",
       "      <th>is_delayed</th>\n",
       "    </tr>\n",
       "  </thead>\n",
       "  <tbody>\n",
       "    <tr>\n",
       "      <th>0</th>\n",
       "      <td>2018-07-20</td>\n",
       "      <td>ABQ</td>\n",
       "      <td>AUS</td>\n",
       "      <td>5929</td>\n",
       "      <td>WN</td>\n",
       "      <td>1900</td>\n",
       "      <td>1917.0</td>\n",
       "      <td>17.0</td>\n",
       "      <td>1625</td>\n",
       "      <td>1644.0</td>\n",
       "      <td>...</td>\n",
       "      <td>68.6</td>\n",
       "      <td>51.96</td>\n",
       "      <td>0.0</td>\n",
       "      <td>1013.0</td>\n",
       "      <td>0.0</td>\n",
       "      <td>88.5</td>\n",
       "      <td>9.9</td>\n",
       "      <td>6.7</td>\n",
       "      <td>0.0</td>\n",
       "      <td>True</td>\n",
       "    </tr>\n",
       "    <tr>\n",
       "      <th>1</th>\n",
       "      <td>2018-07-20</td>\n",
       "      <td>ABQ</td>\n",
       "      <td>BWI</td>\n",
       "      <td>2377</td>\n",
       "      <td>WN</td>\n",
       "      <td>2155</td>\n",
       "      <td>2222.0</td>\n",
       "      <td>27.0</td>\n",
       "      <td>1615</td>\n",
       "      <td>1624.0</td>\n",
       "      <td>...</td>\n",
       "      <td>57.3</td>\n",
       "      <td>39.19</td>\n",
       "      <td>0.0</td>\n",
       "      <td>1017.9</td>\n",
       "      <td>0.0</td>\n",
       "      <td>84.9</td>\n",
       "      <td>9.9</td>\n",
       "      <td>5.8</td>\n",
       "      <td>0.0</td>\n",
       "      <td>True</td>\n",
       "    </tr>\n",
       "    <tr>\n",
       "      <th>2</th>\n",
       "      <td>2018-07-20</td>\n",
       "      <td>ABQ</td>\n",
       "      <td>BWI</td>\n",
       "      <td>2504</td>\n",
       "      <td>WN</td>\n",
       "      <td>1410</td>\n",
       "      <td>1441.0</td>\n",
       "      <td>31.0</td>\n",
       "      <td>825</td>\n",
       "      <td>834.0</td>\n",
       "      <td>...</td>\n",
       "      <td>66.9</td>\n",
       "      <td>78.19</td>\n",
       "      <td>0.0</td>\n",
       "      <td>1020.0</td>\n",
       "      <td>0.0</td>\n",
       "      <td>74.1</td>\n",
       "      <td>9.9</td>\n",
       "      <td>0.7</td>\n",
       "      <td>0.0</td>\n",
       "      <td>True</td>\n",
       "    </tr>\n",
       "    <tr>\n",
       "      <th>3</th>\n",
       "      <td>2018-07-20</td>\n",
       "      <td>ABQ</td>\n",
       "      <td>DAL</td>\n",
       "      <td>15</td>\n",
       "      <td>WN</td>\n",
       "      <td>905</td>\n",
       "      <td>850.0</td>\n",
       "      <td>-15.0</td>\n",
       "      <td>620</td>\n",
       "      <td>618.0</td>\n",
       "      <td>...</td>\n",
       "      <td>59.6</td>\n",
       "      <td>31.21</td>\n",
       "      <td>0.0</td>\n",
       "      <td>1010.9</td>\n",
       "      <td>0.0</td>\n",
       "      <td>94.7</td>\n",
       "      <td>9.9</td>\n",
       "      <td>13.1</td>\n",
       "      <td>0.0</td>\n",
       "      <td>False</td>\n",
       "    </tr>\n",
       "    <tr>\n",
       "      <th>4</th>\n",
       "      <td>2018-07-20</td>\n",
       "      <td>ABQ</td>\n",
       "      <td>DAL</td>\n",
       "      <td>942</td>\n",
       "      <td>WN</td>\n",
       "      <td>1620</td>\n",
       "      <td>1622.0</td>\n",
       "      <td>2.0</td>\n",
       "      <td>1340</td>\n",
       "      <td>1339.0</td>\n",
       "      <td>...</td>\n",
       "      <td>59.6</td>\n",
       "      <td>31.21</td>\n",
       "      <td>0.0</td>\n",
       "      <td>1010.9</td>\n",
       "      <td>0.0</td>\n",
       "      <td>94.7</td>\n",
       "      <td>9.9</td>\n",
       "      <td>13.1</td>\n",
       "      <td>0.0</td>\n",
       "      <td>True</td>\n",
       "    </tr>\n",
       "  </tbody>\n",
       "</table>\n",
       "<p>5 rows × 34 columns</p>\n",
       "</div>"
      ],
      "text/plain": [
       "  Flight_Date Origin_Airport Destination_Airport  Flight_Number  \\\n",
       "0  2018-07-20            ABQ                 AUS           5929   \n",
       "1  2018-07-20            ABQ                 BWI           2377   \n",
       "2  2018-07-20            ABQ                 BWI           2504   \n",
       "3  2018-07-20            ABQ                 DAL             15   \n",
       "4  2018-07-20            ABQ                 DAL            942   \n",
       "\n",
       "  Operating_Carrier  Scheduled_Arrival_Time  Actual_Arrival_Time  \\\n",
       "0                WN                    1900               1917.0   \n",
       "1                WN                    2155               2222.0   \n",
       "2                WN                    1410               1441.0   \n",
       "3                WN                     905                850.0   \n",
       "4                WN                    1620               1622.0   \n",
       "\n",
       "   Arrival_Delay  Scheduled_Departure_Time  Actual_Departure_Time  ...  \\\n",
       "0           17.0                      1625                 1644.0  ...   \n",
       "1           27.0                      1615                 1624.0  ...   \n",
       "2           31.0                       825                  834.0  ...   \n",
       "3          -15.0                       620                  618.0  ...   \n",
       "4            2.0                      1340                 1339.0  ...   \n",
       "\n",
       "   Destination Dew Destination Humidity Destination Precipitation  \\\n",
       "0             68.6                51.96                       0.0   \n",
       "1             57.3                39.19                       0.0   \n",
       "2             66.9                78.19                       0.0   \n",
       "3             59.6                31.21                       0.0   \n",
       "4             59.6                31.21                       0.0   \n",
       "\n",
       "   Destination Pressure  Destination Snow  Destination Temperature  \\\n",
       "0                1013.0               0.0                     88.5   \n",
       "1                1017.9               0.0                     84.9   \n",
       "2                1020.0               0.0                     74.1   \n",
       "3                1010.9               0.0                     94.7   \n",
       "4                1010.9               0.0                     94.7   \n",
       "\n",
       "   Destination Visibility  Destination Windspeed  \\\n",
       "0                     9.9                    6.7   \n",
       "1                     9.9                    5.8   \n",
       "2                     9.9                    0.7   \n",
       "3                     9.9                   13.1   \n",
       "4                     9.9                   13.1   \n",
       "\n",
       "   Destination Precipitation Probability  is_delayed  \n",
       "0                                    0.0        True  \n",
       "1                                    0.0        True  \n",
       "2                                    0.0        True  \n",
       "3                                    0.0       False  \n",
       "4                                    0.0        True  \n",
       "\n",
       "[5 rows x 34 columns]"
      ]
     },
     "execution_count": 26,
     "metadata": {},
     "output_type": "execute_result"
    }
   ],
   "source": [
    "# make a new binary column for our target variable\n",
    "df['is_delayed'] = (df['Arrival_Delay'] > 0 ) | (df['Departure_Delay'] > 0)\n",
    "df.head()"
   ]
  },
  {
   "cell_type": "code",
   "execution_count": 27,
   "metadata": {},
   "outputs": [
    {
     "data": {
      "text/html": [
       "<div>\n",
       "<style scoped>\n",
       "    .dataframe tbody tr th:only-of-type {\n",
       "        vertical-align: middle;\n",
       "    }\n",
       "\n",
       "    .dataframe tbody tr th {\n",
       "        vertical-align: top;\n",
       "    }\n",
       "\n",
       "    .dataframe thead th {\n",
       "        text-align: right;\n",
       "    }\n",
       "</style>\n",
       "<table border=\"1\" class=\"dataframe\">\n",
       "  <thead>\n",
       "    <tr style=\"text-align: right;\">\n",
       "      <th></th>\n",
       "      <th>Origin Cloud Cover</th>\n",
       "      <th>Origin Dew</th>\n",
       "      <th>Origin Humidity</th>\n",
       "      <th>Origin Precipitation</th>\n",
       "      <th>Origin Pressure</th>\n",
       "      <th>Origin Snow</th>\n",
       "      <th>Origin Temperature</th>\n",
       "      <th>Origin Visibility</th>\n",
       "      <th>Origin Windspeed</th>\n",
       "      <th>Origin Precipitation Probability</th>\n",
       "      <th>...</th>\n",
       "      <th>Destination Dew</th>\n",
       "      <th>Destination Humidity</th>\n",
       "      <th>Destination Precipitation</th>\n",
       "      <th>Destination Pressure</th>\n",
       "      <th>Destination Snow</th>\n",
       "      <th>Destination Temperature</th>\n",
       "      <th>Destination Visibility</th>\n",
       "      <th>Destination Windspeed</th>\n",
       "      <th>Destination Precipitation Probability</th>\n",
       "      <th>is_delayed</th>\n",
       "    </tr>\n",
       "  </thead>\n",
       "  <tbody>\n",
       "    <tr>\n",
       "      <th>0</th>\n",
       "      <td>87.6</td>\n",
       "      <td>51.1</td>\n",
       "      <td>33.3</td>\n",
       "      <td>0.0</td>\n",
       "      <td>1011.8</td>\n",
       "      <td>0.0</td>\n",
       "      <td>82.9</td>\n",
       "      <td>9.9</td>\n",
       "      <td>9.1</td>\n",
       "      <td>0.0</td>\n",
       "      <td>...</td>\n",
       "      <td>68.6</td>\n",
       "      <td>51.96</td>\n",
       "      <td>0.0</td>\n",
       "      <td>1013.0</td>\n",
       "      <td>0.0</td>\n",
       "      <td>88.5</td>\n",
       "      <td>9.9</td>\n",
       "      <td>6.7</td>\n",
       "      <td>0.0</td>\n",
       "      <td>True</td>\n",
       "    </tr>\n",
       "    <tr>\n",
       "      <th>1</th>\n",
       "      <td>87.6</td>\n",
       "      <td>51.1</td>\n",
       "      <td>33.3</td>\n",
       "      <td>0.0</td>\n",
       "      <td>1011.8</td>\n",
       "      <td>0.0</td>\n",
       "      <td>82.9</td>\n",
       "      <td>9.9</td>\n",
       "      <td>9.1</td>\n",
       "      <td>0.0</td>\n",
       "      <td>...</td>\n",
       "      <td>57.3</td>\n",
       "      <td>39.19</td>\n",
       "      <td>0.0</td>\n",
       "      <td>1017.9</td>\n",
       "      <td>0.0</td>\n",
       "      <td>84.9</td>\n",
       "      <td>9.9</td>\n",
       "      <td>5.8</td>\n",
       "      <td>0.0</td>\n",
       "      <td>True</td>\n",
       "    </tr>\n",
       "    <tr>\n",
       "      <th>2</th>\n",
       "      <td>87.6</td>\n",
       "      <td>51.1</td>\n",
       "      <td>33.3</td>\n",
       "      <td>0.0</td>\n",
       "      <td>1011.8</td>\n",
       "      <td>0.0</td>\n",
       "      <td>82.9</td>\n",
       "      <td>9.9</td>\n",
       "      <td>9.1</td>\n",
       "      <td>0.0</td>\n",
       "      <td>...</td>\n",
       "      <td>66.9</td>\n",
       "      <td>78.19</td>\n",
       "      <td>0.0</td>\n",
       "      <td>1020.0</td>\n",
       "      <td>0.0</td>\n",
       "      <td>74.1</td>\n",
       "      <td>9.9</td>\n",
       "      <td>0.7</td>\n",
       "      <td>0.0</td>\n",
       "      <td>True</td>\n",
       "    </tr>\n",
       "    <tr>\n",
       "      <th>3</th>\n",
       "      <td>87.6</td>\n",
       "      <td>51.1</td>\n",
       "      <td>33.3</td>\n",
       "      <td>0.0</td>\n",
       "      <td>1011.8</td>\n",
       "      <td>0.0</td>\n",
       "      <td>82.9</td>\n",
       "      <td>9.9</td>\n",
       "      <td>9.1</td>\n",
       "      <td>0.0</td>\n",
       "      <td>...</td>\n",
       "      <td>59.6</td>\n",
       "      <td>31.21</td>\n",
       "      <td>0.0</td>\n",
       "      <td>1010.9</td>\n",
       "      <td>0.0</td>\n",
       "      <td>94.7</td>\n",
       "      <td>9.9</td>\n",
       "      <td>13.1</td>\n",
       "      <td>0.0</td>\n",
       "      <td>False</td>\n",
       "    </tr>\n",
       "    <tr>\n",
       "      <th>4</th>\n",
       "      <td>87.6</td>\n",
       "      <td>51.1</td>\n",
       "      <td>33.3</td>\n",
       "      <td>0.0</td>\n",
       "      <td>1011.8</td>\n",
       "      <td>0.0</td>\n",
       "      <td>82.9</td>\n",
       "      <td>9.9</td>\n",
       "      <td>9.1</td>\n",
       "      <td>0.0</td>\n",
       "      <td>...</td>\n",
       "      <td>59.6</td>\n",
       "      <td>31.21</td>\n",
       "      <td>0.0</td>\n",
       "      <td>1010.9</td>\n",
       "      <td>0.0</td>\n",
       "      <td>94.7</td>\n",
       "      <td>9.9</td>\n",
       "      <td>13.1</td>\n",
       "      <td>0.0</td>\n",
       "      <td>True</td>\n",
       "    </tr>\n",
       "  </tbody>\n",
       "</table>\n",
       "<p>5 rows × 21 columns</p>\n",
       "</div>"
      ],
      "text/plain": [
       "   Origin Cloud Cover  Origin Dew  Origin Humidity  Origin Precipitation  \\\n",
       "0                87.6        51.1             33.3                   0.0   \n",
       "1                87.6        51.1             33.3                   0.0   \n",
       "2                87.6        51.1             33.3                   0.0   \n",
       "3                87.6        51.1             33.3                   0.0   \n",
       "4                87.6        51.1             33.3                   0.0   \n",
       "\n",
       "   Origin Pressure  Origin Snow  Origin Temperature  Origin Visibility  \\\n",
       "0           1011.8          0.0                82.9                9.9   \n",
       "1           1011.8          0.0                82.9                9.9   \n",
       "2           1011.8          0.0                82.9                9.9   \n",
       "3           1011.8          0.0                82.9                9.9   \n",
       "4           1011.8          0.0                82.9                9.9   \n",
       "\n",
       "   Origin Windspeed  Origin Precipitation Probability  ...  Destination Dew  \\\n",
       "0               9.1                               0.0  ...             68.6   \n",
       "1               9.1                               0.0  ...             57.3   \n",
       "2               9.1                               0.0  ...             66.9   \n",
       "3               9.1                               0.0  ...             59.6   \n",
       "4               9.1                               0.0  ...             59.6   \n",
       "\n",
       "   Destination Humidity  Destination Precipitation  Destination Pressure  \\\n",
       "0                 51.96                        0.0                1013.0   \n",
       "1                 39.19                        0.0                1017.9   \n",
       "2                 78.19                        0.0                1020.0   \n",
       "3                 31.21                        0.0                1010.9   \n",
       "4                 31.21                        0.0                1010.9   \n",
       "\n",
       "   Destination Snow  Destination Temperature  Destination Visibility  \\\n",
       "0               0.0                     88.5                     9.9   \n",
       "1               0.0                     84.9                     9.9   \n",
       "2               0.0                     74.1                     9.9   \n",
       "3               0.0                     94.7                     9.9   \n",
       "4               0.0                     94.7                     9.9   \n",
       "\n",
       "   Destination Windspeed  Destination Precipitation Probability  is_delayed  \n",
       "0                    6.7                                    0.0        True  \n",
       "1                    5.8                                    0.0        True  \n",
       "2                    0.7                                    0.0        True  \n",
       "3                   13.1                                    0.0       False  \n",
       "4                   13.1                                    0.0        True  \n",
       "\n",
       "[5 rows x 21 columns]"
      ]
     },
     "execution_count": 27,
     "metadata": {},
     "output_type": "execute_result"
    }
   ],
   "source": [
    "# seperate all weather data\n",
    "weather_df = df[['Origin Cloud Cover', 'Origin Dew', 'Origin Humidity',\n",
    "       'Origin Precipitation', 'Origin Pressure', 'Origin Snow',\n",
    "       'Origin Temperature', 'Origin Visibility', 'Origin Windspeed',\n",
    "       'Origin Precipitation Probability', 'Destination Cloud Cover',\n",
    "       'Destination Dew', 'Destination Humidity', 'Destination Precipitation',\n",
    "       'Destination Pressure', 'Destination Snow', 'Destination Temperature',\n",
    "       'Destination Visibility', 'Destination Windspeed',\n",
    "       'Destination Precipitation Probability', 'is_delayed']]\n",
    "weather_df.head()"
   ]
  },
  {
   "cell_type": "code",
   "execution_count": 28,
   "metadata": {},
   "outputs": [
    {
     "data": {
      "text/plain": [
       "True     36961\n",
       "False    25544\n",
       "Name: is_delayed, dtype: int64"
      ]
     },
     "execution_count": 28,
     "metadata": {},
     "output_type": "execute_result"
    }
   ],
   "source": [
    "weather_df['is_delayed'].value_counts()"
   ]
  },
  {
   "cell_type": "code",
   "execution_count": null,
   "metadata": {},
   "outputs": [],
   "source": [
    "df = weather_df.copy()"
   ]
  },
  {
   "cell_type": "markdown",
   "metadata": {},
   "source": [
    "#### split the data on a 70/30 split to train just weather data versus boolean variable\n",
    "##### NOTE: The main purpose of accuracy_score is to measure how often the model's predictions match the target. It calculates the percentage of correctly predicted instances out of the total number of instances."
   ]
  },
  {
   "cell_type": "code",
   "execution_count": 33,
   "metadata": {},
   "outputs": [
    {
     "name": "stdout",
     "output_type": "stream",
     "text": [
      "Accuracy: 0.61\n"
     ]
    }
   ],
   "source": [
    "# Separate features and target variable\n",
    "X = df[['Origin Cloud Cover', 'Origin Dew', 'Origin Humidity',\n",
    "       'Origin Precipitation', 'Origin Pressure', 'Origin Snow',\n",
    "       'Origin Temperature', 'Origin Visibility', 'Origin Windspeed',\n",
    "       'Origin Precipitation Probability', 'Destination Cloud Cover',\n",
    "       'Destination Dew', 'Destination Humidity', 'Destination Precipitation',\n",
    "       'Destination Pressure', 'Destination Snow', 'Destination Temperature',\n",
    "       'Destination Visibility', 'Destination Windspeed',\n",
    "       'Destination Precipitation Probability']]\n",
    "y = df['is_delayed']\n",
    "\n",
    "X_train, X_test, y_train, y_test = train_test_split(X, y, test_size=0.3, random_state=1234)\n",
    "model = LogisticRegression()\n",
    "model.fit(X_train, y_train)\n",
    "y_pred = model.predict(X_test)\n",
    "accuracy = accuracy_score(y_test, y_pred)\n",
    "print(f\"Accuracy: {accuracy:.2f}\")"
   ]
  },
  {
   "cell_type": "markdown",
   "metadata": {},
   "source": [
    "# Model Tuning"
   ]
  },
  {
   "cell_type": "markdown",
   "metadata": {},
   "source": [
    "#####  When C is very large, the regularization effect is minimal, and the logistic regression model tends to behave more like a standard linear regression model, placing less emphasis on regularization. On the other hand, when C is very small, the model becomes more regularized, and the coefficients are pushed towards zero, effectively simplifying the model and making it less sensitive to individual data points. Regularization is a technique used to prevent overfitting."
   ]
  },
  {
   "cell_type": "code",
   "execution_count": 95,
   "metadata": {},
   "outputs": [
    {
     "name": "stdout",
     "output_type": "stream",
     "text": [
      "Best Hyperparameters: {'C': 0.43}\n",
      "Accuracy: 0.61\n"
     ]
    }
   ],
   "source": [
    "param_grid = {'C': [0.41, 0.42, 0.43, 0.44, 0.45, 0.46]}\n",
    "\n",
    "# GridSearchCV automates the process of tuning hyperparameters by searching through a predefined set of hyperparameter values\n",
    "# and finding the best combination that maximizes the model's performance based on a specified evaluation metric.\n",
    "grid_search = GridSearchCV(model, param_grid, cv=10)\n",
    "grid_search.fit(X_train, y_train)\n",
    "best_params = grid_search.best_params_\n",
    "print(\"Best Hyperparameters:\", best_params)\n",
    "\n",
    "\n",
    "best_model = grid_search.best_estimator_\n",
    "y_pred = best_model.predict(X_test)\n",
    "\n",
    "# Evaluate the best model's performance\n",
    "accuracy = accuracy_score(y_test, y_pred)\n",
    "print(f\"Accuracy: {accuracy:.2f}\")"
   ]
  },
  {
   "cell_type": "markdown",
   "metadata": {},
   "source": [
    "### Function to predict if a flight will be delayed"
   ]
  },
  {
   "cell_type": "code",
   "execution_count": 114,
   "metadata": {},
   "outputs": [],
   "source": [
    "# make function to predict flight delay\n",
    "# Example params: ('2023-07-01', 1825, 'Denver, Colorado', 'Atlanta, Georgia')\n",
    "def flight_prediction(flight_date, fl_time, Departure_city, Arrival_city):\n",
    "    # URL params\n",
    "    url = 'https://weather.visualcrossing.com/VisualCrossingWebServices/rest/services/timeline/'\n",
    "    unitGroup = 'unitGroup=us'\n",
    "    contentType = 'contentType=json'\n",
    "\n",
    "    resp = requests.get(f\"{url}{Departure_city}/{flight_date}/{flight_date}?{unitGroup}&key={weather_key}&{contentType}\").json()\n",
    "    arr_weather_data = getWeatherData(resp, int(fl_time))\n",
    "    resp = requests.get(f\"{url}{Arrival_city}/{flight_date}/{flight_date}?{unitGroup}&key={weather_key}&{contentType}\").json()\n",
    "    dep_weather_data = getWeatherData(resp, int(fl_time))\n",
    "\n",
    "    df = pd.DataFrame({\n",
    "        'Origin Cloud Cover': dep_weather_data['cloudcover'], \n",
    "        'Origin Dew': dep_weather_data['dew'], \n",
    "        'Origin Humidity': dep_weather_data['humidity'],\n",
    "        'Origin Precipitation': dep_weather_data['precip'], \n",
    "        'Origin Pressure': dep_weather_data['pressure'], \n",
    "        'Origin Snow': dep_weather_data['snow'],\n",
    "        'Origin Temperature': dep_weather_data['temp'], \n",
    "        'Origin Visibility': dep_weather_data['visibility'], \n",
    "        'Origin Windspeed': dep_weather_data['windspeed'],\n",
    "        'Origin Precipitation Probability': dep_weather_data['precipprob'],\n",
    "        'Destination Cloud Cover': arr_weather_data['cloudcover'],\n",
    "        'Destination Dew': arr_weather_data['dew'], \n",
    "        'Destination Humidity': arr_weather_data['humidity'], \n",
    "        'Destination Precipitation': arr_weather_data['precip'],\n",
    "        'Destination Pressure': arr_weather_data['pressure'], \n",
    "        'Destination Snow': arr_weather_data['snow'], \n",
    "        'Destination Temperature': arr_weather_data['temp'],\n",
    "        'Destination Visibility': arr_weather_data['visibility'], \n",
    "        'Destination Windspeed': arr_weather_data['windspeed'],\n",
    "        'Destination Precipitation Probability': arr_weather_data['precipprob']\n",
    "    }, index=[20])\n",
    "\n",
    "    y_pred = best_model.predict(df)\n",
    "\n",
    "    return y_pred"
   ]
  },
  {
   "cell_type": "code",
   "execution_count": 116,
   "metadata": {},
   "outputs": [
    {
     "name": "stdout",
     "output_type": "stream",
     "text": [
      "There is a chance your flight will be delayed due to weather.\n"
     ]
    }
   ],
   "source": [
    "# Get user data and predict flight delay\n",
    "flight_date = '2023-07-31'\n",
    "fl_time = '1835'\n",
    "departure_city = 'Denver, Colorado'\n",
    "arrival_city = 'Atlanta, Georgia'\n",
    "\n",
    "delayed = flight_prediction(flight_date, fl_time, departure_city, arrival_city)\n",
    "\n",
    "if delayed:\n",
    "    print(\"There is a chance your flight will be delayed due to weather.\")\n",
    "else:\n",
    "    print(\"There is a chance your flight will not be delayed due to weather.\")"
   ]
  }
 ],
 "metadata": {
  "kernelspec": {
   "display_name": "dev",
   "language": "python",
   "name": "python3"
  },
  "language_info": {
   "codemirror_mode": {
    "name": "ipython",
    "version": 3
   },
   "file_extension": ".py",
   "mimetype": "text/x-python",
   "name": "python",
   "nbconvert_exporter": "python",
   "pygments_lexer": "ipython3",
   "version": "3.10.11"
  },
  "orig_nbformat": 4
 },
 "nbformat": 4,
 "nbformat_minor": 2
}
