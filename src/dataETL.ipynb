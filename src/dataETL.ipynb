{
 "cells": [
  {
   "cell_type": "code",
   "execution_count": null,
   "metadata": {
    "scrolled": false
   },
   "outputs": [],
   "source": [
    "# Download data from Kaggle\n",
    "# !kaggle datasets download -d yuanyuwendymu/airline-delay-and-cancellation-data-2009-2018"
   ]
  },
  {
   "cell_type": "code",
   "execution_count": null,
   "metadata": {},
   "outputs": [],
   "source": [
    "# imports\n",
    "import pandas as pd\n",
    "import zipfile\n",
    "import os\n",
    "import requests\n",
    "import airportsdata\n",
    "from dotenv import dotenv_values\n",
    "\n",
    "# Extract data for 2018 out of the kaggle dataset\n",
    "try:\n",
    "    with zipfile.ZipFile('airline-delay-and-cancellation-data-2009-2018.zip', 'r') as zip_ref:\n",
    "        zip_ref.extract('2018.csv', '../data/')\n",
    "except:\n",
    "    print('Zipped dataset missing from src.')\n",
    "\n",
    "# Delete zipped dataset from kaggle once extracted\n",
    "try:\n",
    "    os.remove('airline-delay-and-cancellation-data-2009-2018.zip')  # Alternatively, you can use os.unlink(file_path)\n",
    "except OSError as e:\n",
    "    print(f\"Error while deleting: {e}\")\n",
    "\n",
    "# import variables\n",
    "airports = airportsdata.load('IATA')\n",
    "weather_key = dotenv_values().get('weather_key')"
   ]
  },
  {
   "cell_type": "code",
   "execution_count": null,
   "metadata": {},
   "outputs": [],
   "source": [
    "# read in CSV\n",
    "df = pd.read_csv('../data/2018.csv')\n",
    "# display\n",
    "df.head()"
   ]
  },
  {
   "cell_type": "code",
   "execution_count": null,
   "metadata": {},
   "outputs": [],
   "source": [
    "df.count()"
   ]
  },
  {
   "cell_type": "code",
   "execution_count": null,
   "metadata": {},
   "outputs": [],
   "source": [
    "# Started Cleaning\n",
    "airline_df = df.copy()\n",
    "airline_df = airline_df[['FL_DATE','ORIGIN', 'DEST', 'OP_CARRIER_FL_NUM', 'OP_CARRIER', 'CRS_ARR_TIME', 'ARR_TIME', 'ARR_DELAY','CRS_DEP_TIME', 'DEP_TIME', 'DEP_DELAY']]\n",
    "airline_df.head()"
   ]
  },
  {
   "cell_type": "code",
   "execution_count": null,
   "metadata": {},
   "outputs": [],
   "source": [
    "airline_df.rename(columns={\n",
    "    'FL_DATE': 'Flight_Date',\n",
    "    'ORIGIN': 'Origin_Airport',\n",
    "    'DEST': 'Destination_Airport',\n",
    "    'OP_CARRIER_FL_NUM': 'Flight_Number',\n",
    "    'OP_CARRIER': 'Operating_Carrier',\n",
    "    'CRS_ARR_TIME': 'Scheduled_Arrival_Time',\n",
    "    'ARR_TIME': 'Actual_Arrival_Time',\n",
    "    'ARR_DELAY': 'Arrival_Delay',\n",
    "    'CRS_DEP_TIME': 'Scheduled_Departure_Time',\n",
    "    'DEP_TIME': 'Actual_Departure_Time',\n",
    "    'DEP_DELAY': 'Departure_Delay'\n",
    "}, inplace=True)"
   ]
  },
  {
   "cell_type": "code",
   "execution_count": null,
   "metadata": {},
   "outputs": [],
   "source": [
    "airline_df.dropna(inplace=True)\n",
    "airline_df.reset_index(drop=True, inplace=True)\n",
    "airline_df.head()"
   ]
  },
  {
   "cell_type": "code",
   "execution_count": null,
   "metadata": {},
   "outputs": [],
   "source": [
    "airline_df.count()"
   ]
  },
  {
   "cell_type": "code",
   "execution_count": null,
   "metadata": {},
   "outputs": [],
   "source": [
    "airline_df.info()"
   ]
  },
  {
   "cell_type": "code",
   "execution_count": null,
   "metadata": {},
   "outputs": [],
   "source": [
    "len(airline_df['Flight_Date'].unique())"
   ]
  },
  {
   "cell_type": "code",
   "execution_count": null,
   "metadata": {},
   "outputs": [],
   "source": [
    "airline_df['Flight_Date'].value_counts()"
   ]
  },
  {
   "cell_type": "code",
   "execution_count": null,
   "metadata": {},
   "outputs": [],
   "source": [
    "# get month with most flights\n",
    "monthly_df = airline_df.copy()\n",
    "\n",
    "monthly_df['Flight_DateTime'] = pd.to_datetime(monthly_df['Flight_Date'])\n",
    "monthly_df['Month'] = monthly_df['Flight_DateTime'].dt.month\n",
    "month_counts = monthly_df['Month'].value_counts()\n",
    "most_frequent_month = month_counts.idxmax()\n",
    "month_most_flights = monthly_df[monthly_df['Month'] == most_frequent_month]\n",
    "month_most_flights.drop(['Month', 'Flight_DateTime'], axis=1, inplace=True)\n",
    "month_most_flights.reset_index(drop=True, inplace=True)\n",
    "month_most_flights.head()\n"
   ]
  },
  {
   "cell_type": "code",
   "execution_count": null,
   "metadata": {},
   "outputs": [],
   "source": [
    "month_most_flights['Flight_Date'].unique()"
   ]
  },
  {
   "cell_type": "code",
   "execution_count": null,
   "metadata": {},
   "outputs": [],
   "source": [
    "month_most_flights.count()"
   ]
  },
  {
   "cell_type": "code",
   "execution_count": null,
   "metadata": {},
   "outputs": [],
   "source": [
    "# add airport cities to DF\n",
    "month_most_flights['Arrival City'] = ''\n",
    "month_most_flights['Departure City'] = ''\n",
    "for i, row in month_most_flights.iterrows():\n",
    "    arr_port, dep_port = row[['Origin_Airport','Destination_Airport']]\n",
    "    try:\n",
    "        month_most_flights.at[i, 'Arrival City'] = f\"{airports[arr_port]['city']}, {airports[arr_port]['subd']}\"\n",
    "        month_most_flights.at[i, 'Departure City'] = f\"{airports[dep_port]['city']}, {airports[dep_port]['subd']}\"\n",
    "    except:\n",
    "        if arr_port == 'ISN':\n",
    "            month_most_flights.at[i,'Arrival City'] = 'Williston, North Dakota'\n",
    "        elif dep_port == 'ISN':\n",
    "            month_most_flights.at[i, 'Departure City'] = 'Williston, North Dakota'\n",
    "        else:\n",
    "            print(f'Index {i} - Airport not found: {arr_port} | {dep_port}')\n",
    "\n",
    "month_most_flights.head()\n",
    "\n"
   ]
  },
  {
   "cell_type": "code",
   "execution_count": null,
   "metadata": {},
   "outputs": [],
   "source": [
    "# clean out data folder of old data\n",
    "try:\n",
    "    os.remove('../data/2018.csv')\n",
    "except OSError as e:\n",
    "    print(f\"Error while deleting: {e}\")\n",
    "\n",
    "# save month data as csv\n",
    "month_most_flights.to_csv('../data/clean_2018_July.csv' )"
   ]
  },
  {
   "cell_type": "code",
   "execution_count": null,
   "metadata": {},
   "outputs": [],
   "source": [
    "month_most_flights['Arrival City'].value_counts()"
   ]
  },
  {
   "cell_type": "code",
   "execution_count": null,
   "metadata": {},
   "outputs": [],
   "source": [
    "month_most_flights['Departure City'].value_counts()"
   ]
  },
  {
   "cell_type": "code",
   "execution_count": null,
   "metadata": {},
   "outputs": [],
   "source": [
    "# Getting returning a delayed arrival count\n",
    "delayed_arrival = month_most_flights[\"Arrival_Delay\"]\n",
    "delayed_arrival_counter = 0\n",
    "for i in delayed_arrival:\n",
    "    if i > 0:\n",
    "        delayed_arrival_counter = delayed_arrival_counter + 1\n",
    "print(delayed_arrival_counter)"
   ]
  },
  {
   "cell_type": "code",
   "execution_count": null,
   "metadata": {},
   "outputs": [],
   "source": [
    "#Getting and returning a delayed departure count\n",
    "delayed_departure = month_most_flights[\"Departure_Delay\"]\n",
    "counter = 0\n",
    "for i in delayed_departure:\n",
    "    if i > 0:\n",
    "        counter = counter + 1\n",
    "print(counter)"
   ]
  },
  {
   "cell_type": "code",
   "execution_count": null,
   "metadata": {},
   "outputs": [],
   "source": [
    "#df.loc[df['col1'] == value]\n",
    "delayed_arrivals = month_most_flights.loc[month_most_flights['Arrival_Delay'] > 0]\n",
    "delayed_arrivals[\"Flight_Date\"].value_counts()"
   ]
  },
  {
   "cell_type": "code",
   "execution_count": null,
   "metadata": {},
   "outputs": [],
   "source": [
    "delayed_departures = month_most_flights.loc[month_most_flights['Departure_Delay'] > 0]\n",
    "delayed_departures['Flight_Date'].value_counts()"
   ]
  },
  {
   "cell_type": "code",
   "execution_count": null,
   "metadata": {},
   "outputs": [],
   "source": []
  },
  {
   "cell_type": "code",
   "execution_count": null,
   "metadata": {},
   "outputs": [],
   "source": []
  },
  {
   "cell_type": "code",
   "execution_count": null,
   "metadata": {},
   "outputs": [],
   "source": []
  }
 ],
 "metadata": {
  "kernelspec": {
   "display_name": "Python 3 (ipykernel)",
   "language": "python",
   "name": "python3"
  },
  "language_info": {
   "codemirror_mode": {
    "name": "ipython",
    "version": 3
   },
   "file_extension": ".py",
   "mimetype": "text/x-python",
   "name": "python",
   "nbconvert_exporter": "python",
   "pygments_lexer": "ipython3",
   "version": "3.10.11"
  }
 },
 "nbformat": 4,
 "nbformat_minor": 2
}
